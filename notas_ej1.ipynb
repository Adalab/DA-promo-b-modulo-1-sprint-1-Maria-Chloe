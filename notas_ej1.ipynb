{
 "cells": [
  {
   "cell_type": "code",
   "execution_count": 3,
   "metadata": {},
   "outputs": [],
   "source": [
    "#para el bonus del pair program ej1 con Chloe\n",
    "\n",
    "dame_un_num = input(\"escribe un número entre el 3 y el 6\")\n",
    "intentos = []\n"
   ]
  },
  {
   "cell_type": "code",
   "execution_count": 5,
   "metadata": {},
   "outputs": [
    {
     "name": "stdout",
     "output_type": "stream",
     "text": [
      "Número de intentos:  2\n"
     ]
    }
   ],
   "source": [
    "intentos.append (dame_un_num)\n",
    "\n",
    "print(\"Número de intentos: \", len(intentos))"
   ]
  },
  {
   "cell_type": "code",
   "execution_count": null,
   "metadata": {},
   "outputs": [],
   "source": [
    "#pista para hacer el input \n",
    "#print(\"What's your name?\")\n",
    "#name = str(input('Enter your name:'))\n",
    "#print( name, \", How old are you?\")\n",
    "#string1 = 'Enter your age,' + name + ':'\n",
    "\n",
    "#print(int(input(string1)), ', Thank you!')"
   ]
  }
 ],
 "metadata": {
  "kernelspec": {
   "display_name": "Python 3.8.10 64-bit",
   "language": "python",
   "name": "python3"
  },
  "language_info": {
   "codemirror_mode": {
    "name": "ipython",
    "version": 3
   },
   "file_extension": ".py",
   "mimetype": "text/x-python",
   "name": "python",
   "nbconvert_exporter": "python",
   "pygments_lexer": "ipython3",
   "version": "3.8.10"
  },
  "orig_nbformat": 4,
  "vscode": {
   "interpreter": {
    "hash": "916dbcbb3f70747c44a77c7bcd40155683ae19c65e1c03b4aa3499c5328201f1"
   }
  }
 },
 "nbformat": 4,
 "nbformat_minor": 2
}
