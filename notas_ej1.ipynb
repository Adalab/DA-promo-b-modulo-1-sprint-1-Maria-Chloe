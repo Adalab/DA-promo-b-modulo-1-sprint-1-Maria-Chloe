{
 "cells": [
  {
   "cell_type": "code",
   "execution_count": 3,
   "metadata": {},
   "outputs": [],
   "source": [
    "#para el bonus del pair program ej1 con Chloe\n",
    "\n",
    "dame_un_num = input(\"escribe un número entre el 3 y el 6\")\n",
    "intentos = []\n"
   ]
  },
  {
   "cell_type": "code",
   "execution_count": 5,
   "metadata": {},
   "outputs": [
    {
     "name": "stdout",
     "output_type": "stream",
     "text": [
      "Número de intentos:  2\n"
     ]
    }
   ],
   "source": [
    "intentos.append (dame_un_num)\n",
    "\n",
    "print(\"Número de intentos: \", len(intentos))"
   ]
  }
 ],
 "metadata": {
  "kernelspec": {
   "display_name": "Python 3.9.7 ('base')",
   "language": "python",
   "name": "python3"
  },
  "language_info": {
   "codemirror_mode": {
    "name": "ipython",
    "version": 3
   },
   "file_extension": ".py",
   "mimetype": "text/x-python",
   "name": "python",
   "nbconvert_exporter": "python",
   "pygments_lexer": "ipython3",
   "version": "3.9.7"
  },
  "orig_nbformat": 4,
  "vscode": {
   "interpreter": {
    "hash": "8e1f904fe714ccd05b7907fe541d28c2ec20b612a1af6f34d013e1f0fd7aabf1"
   }
  }
 },
 "nbformat": 4,
 "nbformat_minor": 2
}
