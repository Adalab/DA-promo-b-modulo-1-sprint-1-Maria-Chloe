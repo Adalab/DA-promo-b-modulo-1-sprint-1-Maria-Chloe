{
 "cells": [
  {
   "cell_type": "code",
   "execution_count": 36,
   "metadata": {},
   "outputs": [],
   "source": [
    "# PAIR PROGRAMMING LISTAS 2\n",
    "#Variables\n",
    "import random \n",
    "\n",
    "index = -1\n",
    "lim_inferior = 3\n",
    "lim_superior = 15\n",
    "longitud_lista = 7\n",
    "\n",
    "bienvenida = \"Bienvenidas al cerebro de esta máquina, voy a enseñaros todo lo que sé hacer...\"\n",
    "#dame_un_num = input(\"Escoge un número entre el 3 y el 12 \") La comento para que no corra y pregunte el numero antes de iniciar el juego\n",
    "num_list = random.sample(range(lim_inferior, lim_superior), longitud_lista)\n",
    "\n",
    "#He cambiado la variable de propiedades_num_list porque al referenciar a num_list el limite inferior y superior se vuelve aleatorio cada vez que se corre el codigo (pruebalo si quieres) \n",
    "# propiedades_num_list = \"La lista aleatoria tiene \" + str(longitud_lista) + \" numeros\" + \" del \" + str(min(num_list)) +\" al \" + str(max(num_list)) + \".\"\n",
    "propiedades_num_list = \"La lista aleatoria tiene \" + str(longitud_lista) + \" numeros\" + \" del \" + str(lim_inferior) +\" al \" + str(lim_superior) + \".\""
   ]
  },
  {
   "cell_type": "code",
   "execution_count": 41,
   "metadata": {},
   "outputs": [
    {
     "name": "stdout",
     "output_type": "stream",
     "text": [
      "Bienvenidas al cerebro de esta máquina, voy a enseñaros todo lo que sé hacer...\n",
      "La lista aleatoria tiene 7 numeros del 3 al 15.\n",
      "El número que has elegido es:  6\n",
      "¿Estaba en la lista aleatoria?\n"
     ]
    },
    {
     "ename": "ValueError",
     "evalue": "6 is not in list",
     "output_type": "error",
     "traceback": [
      "\u001b[0;31m---------------------------------------------------------------------------\u001b[0m",
      "\u001b[0;31mValueError\u001b[0m                                Traceback (most recent call last)",
      "\u001b[0;32m/tmp/ipykernel_835/2039898432.py\u001b[0m in \u001b[0;36m<module>\u001b[0;34m\u001b[0m\n\u001b[1;32m     19\u001b[0m \u001b[0;34m\u001b[0m\u001b[0m\n\u001b[1;32m     20\u001b[0m \u001b[0;31m# Si adivinaron uno, dónde estaba?\u001b[0m\u001b[0;34m\u001b[0m\u001b[0;34m\u001b[0m\u001b[0m\n\u001b[0;32m---> 21\u001b[0;31m \u001b[0mindice\u001b[0m \u001b[0;34m=\u001b[0m \u001b[0mnum_list\u001b[0m\u001b[0;34m.\u001b[0m\u001b[0mindex\u001b[0m\u001b[0;34m(\u001b[0m\u001b[0mintento\u001b[0m\u001b[0;34m)\u001b[0m\u001b[0;34m\u001b[0m\u001b[0;34m\u001b[0m\u001b[0m\n\u001b[0m\u001b[1;32m     22\u001b[0m \u001b[0mindice_humano\u001b[0m \u001b[0;34m=\u001b[0m \u001b[0mindice\u001b[0m \u001b[0;34m+\u001b[0m \u001b[0;36m1\u001b[0m\u001b[0;34m\u001b[0m\u001b[0;34m\u001b[0m\u001b[0m\n\u001b[1;32m     23\u001b[0m \u001b[0;32mif\u001b[0m \u001b[0mnum_list\u001b[0m\u001b[0;34m.\u001b[0m\u001b[0mcount\u001b[0m\u001b[0;34m(\u001b[0m\u001b[0mintento\u001b[0m\u001b[0;34m)\u001b[0m\u001b[0;34m:\u001b[0m \u001b[0mindex\u001b[0m \u001b[0;34m=\u001b[0m \u001b[0mindice\u001b[0m\u001b[0;34m\u001b[0m\u001b[0;34m\u001b[0m\u001b[0m\n",
      "\u001b[0;31mValueError\u001b[0m: 6 is not in list"
     ]
    }
   ],
   "source": [
    "# Inicio del juego\n",
    "\n",
    "print (bienvenida)\n",
    "\n",
    "# Propiedades de la lista aleatoria\n",
    "\n",
    "print(propiedades_num_list)\n",
    "\n",
    "# Usuario escoge un número\n",
    "\n",
    "intento = int(input(\"Escoge un número entre el 3 y el 15 \" ))\n",
    "print('El número que has elegido es: ', intento) \n",
    "\n",
    "# Han adivinado un elemento?\n",
    "\n",
    "print('¿Estaba en la lista aleatoria?')\n",
    "intento in num_list\n",
    "\n",
    "\n",
    "# Si adivinaron uno, dónde estaba? \n",
    "indice = num_list.index(intento)\n",
    "indice_humano = indice + 1\n",
    "if num_list.count(intento): index = indice\n",
    "if index >= 0: print(\"Estaba en el sitio\", indice_humano + \", índice\", str(index)+\".\")\n",
    "\n",
    "# Fin del juego\n",
    "fin_del_juego = '¡Fin del juego!'\n",
    "print (fin_del_juego)"
   ]
  },
  {
   "cell_type": "code",
   "execution_count": 28,
   "metadata": {},
   "outputs": [
    {
     "name": "stdout",
     "output_type": "stream",
     "text": [
      "What's your nae?\n",
      "c , How old are you?\n",
      "7 , Thank you!\n"
     ]
    }
   ],
   "source": [
    "#pista para hacer el input \n",
    "#print(\"What's your name?\")\n",
    "#name = str(input('Enter your name:'))\n",
    "#print( name, \", How old are you?\")\n",
    "#string1 = 'Enter your age,' + name + ':'\n",
    "\n",
    "#print(int(input(string1)), ', Thank you!')\n"
   ]
  }
 ],
 "metadata": {
  "kernelspec": {
   "display_name": "Python 3.9.7 ('base')",
   "language": "python",
   "name": "python3"
  },
  "language_info": {
   "codemirror_mode": {
    "name": "ipython",
    "version": 3
   },
   "file_extension": ".py",
   "mimetype": "text/x-python",
   "name": "python",
   "nbconvert_exporter": "python",
   "pygments_lexer": "ipython3",
   "version": "3.9.7"
  },
  "orig_nbformat": 4,
  "vscode": {
   "interpreter": {
    "hash": "6be5d780ee9b0e6fe20ff9090f4981b24f52f07297829e94136e87c5137905e3"
   }
  }
 },
 "nbformat": 4,
 "nbformat_minor": 2
}
