{
 "cells": [
  {
   "cell_type": "markdown",
   "metadata": {},
   "source": [
    "A lo largo de este pair programming os presentamos una serie de ejercicios que los tendréis que resolver usando sentencias if, if ... else, if ... elif ... else o while."
   ]
  },
  {
   "cell_type": "code",
   "execution_count": 7,
   "metadata": {},
   "outputs": [
    {
     "name": "stdout",
     "output_type": "stream",
     "text": [
      "Tu nota es A.\n"
     ]
    }
   ],
   "source": [
    "\"\"\"\n",
    "Ejercicio:1\n",
    "\n",
    "En la escuela donde trabajamos tienen el siguiente sistema de notas:\n",
    "\n",
    "- Below 25 - F\n",
    "- 25 to 45 - E\n",
    "- 45 to 50 - D\n",
    "- 50 to 60 - C\n",
    "- 60 to 80 - B\n",
    "- Above 80 - A\n",
    "\n",
    "El objetivo de este ejercicio es que le preguntéis al usuario por una nota (numérica) y nosotros le devolvamos la nota con la letra que le corresponde.\n",
    "\"\"\"\n",
    "\n",
    "nota_input = int(input(\"Introduce tu nota:\" ))\n",
    "\n",
    "if nota_input <= 25 :\n",
    "    print(\"Tu nota es F.\")\n",
    "\n",
    "elif 25 < nota_input  < 45 :\n",
    "    print(\"Tu nota es E.\")\n",
    "\n",
    "elif 45 < nota_input  < 50 :\n",
    "    print(\"Tu nota es D.\")\n",
    "\n",
    "elif 50 < nota_input  < 60 :\n",
    "    print(\"Tu nota es C.\")\n",
    "\n",
    "elif 60 < nota_input  < 80 :\n",
    "    print(\"Tu nota es B.\")\n",
    "\n",
    "elif 80 < nota_input :\n",
    "    print(\"Tu nota es A.\")"
   ]
  },
  {
   "cell_type": "code",
   "execution_count": 34,
   "metadata": {},
   "outputs": [
    {
     "name": "stdout",
     "output_type": "stream",
     "text": [
      "Bienvenido a bordo de 007.\n"
     ]
    }
   ],
   "source": [
    "\"\"\"\n",
    " Ejercicio 3.\n",
    "Escribid un programa que pregunte el nombre del usuario a través de la función input(). \n",
    "Si el nombre es \"Bond\" haced que imprima \"Bienvenido a bordo de 007\". \n",
    "En caso contrario haced que imprima \"Buenos días NOMBRE\". (Reemplace NOMBRE por el nombre del usuario).\n",
    "\"\"\"\n",
    "\n",
    "nombre_usuario = str(input(\"Hola, ¿cómo te llamas?\"))\n",
    "\n",
    "if nombre_usuario == \"Bond\":\n",
    "    print(\"Bienvenido a bordo de 007.\")\n",
    "\n",
    "else :\n",
    "    print(f\"Buenos días {nombre_usuario}\")\n",
    "\n",
    "\n",
    "#Me queda pendiente intentar que no sea case sensitive. .upper().lower()\n"
   ]
  },
  {
   "cell_type": "code",
   "execution_count": 47,
   "metadata": {},
   "outputs": [
    {
     "name": "stdout",
     "output_type": "stream",
     "text": [
      "Estás en el grupo B.\n"
     ]
    }
   ],
   "source": [
    "\"\"\"\n",
    "Ejercicio 5:\n",
    "Los alumnos de un curso se han dividido en dos grupos A y B de acuerdo al sexo y el nombre. \n",
    "El grupo A esta formado por las mujeres con un nombre anterior a la M y los hombres con un nombre posterior a la N \n",
    "y el grupo B por el resto. Escribid un programa que pregunte al usuario su nombre y sexo, \n",
    "y muestre por pantalla el grupo que le corresponde.\n",
    "\"\"\"\n",
    "\n",
    "nombre = \"M\"\n",
    "genero = \"Masculino\"\n",
    "\n",
    "\n",
    "input_nombre = input(\"Dime la inicial de tu nombre: \")\n",
    "input_genero = input(\"Elige el género con el que te identifiques: Masculino o Femenino\")\n",
    "\n",
    "# Metemos todas las condiciones para estar en el grupo A en un if, aprovechando que podemos poner or y así simplificamos.\n",
    "\n",
    "if (input_nombre >= nombre and input_genero == genero) or (input_nombre <= nombre and input_genero != genero):\n",
    "\n",
    "    print(\"Estás en el grupo A.\")\n",
    "\n",
    "else :\n",
    "    print(\"Estás en el grupo B.\")\n",
    "\n",
    "\n",
    "\n"
   ]
  },
  {
   "cell_type": "code",
   "execution_count": 51,
   "metadata": {},
   "outputs": [
    {
     "name": "stdout",
     "output_type": "stream",
     "text": [
      "[0, 1, 2, 3]\n"
     ]
    }
   ],
   "source": [
    "\"\"\"\n",
    "Ejercicio 7\n",
    "El objetivo de este ejercicio es añadir elementos a una lista utilizando el bucle while:\n",
    "- Cread una lista vacía\n",
    "- Cread una variable cuyo valor sea 0\n",
    "- Mientras que la longitud de la lista creada en el primer paso sea menor que 4:\n",
    "    Apendead el valor de la variable creada en el paso 2\n",
    "    Sumad 1 a la variable creada en el paso 2\n",
    "- Por último, printead los valores que hemos añadido en la lista vacía (ya no lo estaría)\n",
    "\"\"\"\n",
    "\n",
    "contenedor = []\n",
    "basura = 0\n",
    "\n",
    "while len(contenedor) < 4:\n",
    "    contenedor.append(basura)\n",
    "    basura += 1\n",
    "    # si queremos que no nos enseñe el proceso de append, le metemos un if, si no, lo quitamos.\n",
    "    if len(contenedor) == 4 :\n",
    "        print(contenedor)"
   ]
  },
  {
   "cell_type": "code",
   "execution_count": null,
   "metadata": {},
   "outputs": [
    {
     "name": "stdout",
     "output_type": "stream",
     "text": [
      "115\n"
     ]
    }
   ],
   "source": [
    "\"\"\"\n",
    "Ejercicio 8\n",
    "El objetivo de este ejercicio es encontrar la suma de números en una lista usando el bucle while:\n",
    "    - Cread una variable cuyo valor sea 0, llamadla \"i\"\n",
    "    - Cread una lista que contenga los siguientes números: 23,45,12,10,25\n",
    "    - Cread una variable cuyo valor sea 0, llamadla \"suma\"\n",
    "    - Mientras que el valor de la variable \"i\" sea menor que la longitud de la lista:\n",
    "        · Sumad elemento a elemento los valores de la lista. Es decir, el primero con el segundo; el resultado de la suma anterior más el tercer número, etc\n",
    "        · Sumad 1 a la variable \"i\" por cada iteración por el bucle while\n",
    "    - El resultado esperado es 115.\n",
    "\"\"\"\n",
    "\n",
    "i = 0\n",
    "numeros = [23, 45, 12, 10, 25]\n",
    "suma = 0\n",
    "\n",
    "while i < len(numeros) :\n",
    "    suma = numeros[i] + suma\n",
    "    \n",
    "    i += 1\n",
    "print(suma)\n"
   ]
  },
  {
   "cell_type": "code",
   "execution_count": 10,
   "metadata": {},
   "outputs": [
    {
     "name": "stdout",
     "output_type": "stream",
     "text": [
      "Tu entrada es gratis.\n"
     ]
    }
   ],
   "source": [
    "\"\"\"\n",
    "Ejercicio 9\n",
    "Escribid un programa para una empresa que tiene salas de juegos para todas las edades y quiere calcular de forma automática \n",
    "el precio que debe cobrar a sus clientes por entrar. El programa debe preguntar al usuario la edad del cliente y mostrar el precio de la entrada. \n",
    "Si el cliente es menor de 4 años puede entrar gratis, si tiene entre 4 y 18 años debe pagar 5€ y si es mayor de 18 años, 10€.\n",
    "\"\"\"\n",
    "\n",
    "entrada = [\"gratis\", 5, 10]\n",
    "edad = int(input(\"Edad del cliente: \"))\n",
    "\n",
    "if edad > 18 :\n",
    "    print(f\"Tu entrada tiene un precio de {entrada[2]} euros.\")\n",
    "elif edad < 4 :\n",
    "    print(f\"Tu entrada es {entrada[0]}.\")\n",
    "else:\n",
    "    print(f\"Tu entrada tiene un precio de {entrada[1]} euros.\")"
   ]
  },
  {
   "cell_type": "code",
   "execution_count": 3,
   "metadata": {},
   "outputs": [],
   "source": [
    "\"\"\"\n",
    "Ejercicio 10\n",
    "La pizzería Bella Napoli ofrece pizzas vegetarianas y no vegetarianas a sus clientes. Los ingredientes para cada tipo de pizza aparecen a continuación.\n",
    "    - Ingredientes vegetarianos: Pimiento y tofu.\n",
    "    - Ingredientes no vegetarianos: Peperoni, Jamón y Salmón.\n",
    "    - Escribid un programa que pregunte al usuario si quiere una pizza vegetariana o no, \n",
    "      y en función de su respuesta le muestre un menú con los ingredientes disponibles para que elija. \n",
    "      Solo se puede eligir un ingrediente además de la mozzarella y el tomate que están en todas la pizzas. \n",
    "      Al final se debe mostrar por pantalla si la pizza elegida es vegetariana o no y todos los ingredientes que lleva.\n",
    "\"\"\"\n",
    "\n",
    "ingredientes_vegetarianos = [\"Pimiento\", \"tofu\"]\n",
    "ingredientes_no_vegetarianos = [\"Peperoni\", \"Jamón\", \"Salmón\"]\n",
    "\n",
    "\n",
    "pizza_ingredientes = [\"Mozzarela\", \"Tomate\"]\n",
    "\n",
    "\n"
   ]
  },
  {
   "cell_type": "code",
   "execution_count": 38,
   "metadata": {},
   "outputs": [
    {
     "name": "stdout",
     "output_type": "stream",
     "text": [
      "Genial! Todas nuestras pizzas son de masa fina y fermentada 48h, llevan salsa de tomate en la base y suave mozzarela\n",
      "Muy bien, puede elegir cualquiera de los frescos y fantásticos ingredientes de la siguiente lista, puede añadirlos escribiendo su nombre, de uno en uno\n",
      "['Pimiento', 'tofu', 'Peperoni', 'Jamón', 'Salmón']\n"
     ]
    }
   ],
   "source": [
    "\n",
    "quieres_pizza = input(\"Buenas tardes, ¿le apetece tomar una pizza? S/N \")\n",
    "if quieres_pizza == \"S\" :\n",
    "    print(\"Genial! Todas nuestras pizzas son de masa fina y fermentada 48h, llevan salsa de tomate en la base y suave mozzarela\") \n",
    "    añade_ingredientes = input(\"Genial! Todas nuestras pizzas son de masa fina y fermentada 48h, llevan salsa de tomate en la base y suave mozzarela.\\n¿Le gustaría añadir algún ingrediente más? S/N\")\n",
    "    if añade_ingredientes == \"S\":\n",
    "        print(\"Muy bien, puede elegir cualquiera de los frescos y fantásticos ingredientes de la siguiente lista, puede añadirlos escribiendo su nombre, de uno en uno\")\n",
    "        print(ingredientes_vegetarianos + ingredientes_no_vegetarianos)\n",
    "else :\n",
    "    print(\"ok, espero verle otro día. ¡Que pase buena tarde!\")\n"
   ]
  }
 ],
 "metadata": {
  "kernelspec": {
   "display_name": "Python 3.9.7 ('base': conda)",
   "language": "python",
   "name": "python3"
  },
  "language_info": {
   "codemirror_mode": {
    "name": "ipython",
    "version": 3
   },
   "file_extension": ".py",
   "mimetype": "text/x-python",
   "name": "python",
   "nbconvert_exporter": "python",
   "pygments_lexer": "ipython3",
   "version": "3.9.7"
  },
  "orig_nbformat": 4,
  "vscode": {
   "interpreter": {
    "hash": "8e1f904fe714ccd05b7907fe541d28c2ec20b612a1af6f34d013e1f0fd7aabf1"
   }
  }
 },
 "nbformat": 4,
 "nbformat_minor": 2
}
