{
 "cells": [
  {
   "cell_type": "markdown",
   "metadata": {},
   "source": [
    "A lo largo de este pair programming os presentamos una serie de ejercicios que los tendréis que resolver usando sentencias if, if ... else, if ... elif ... else o while."
   ]
  },
  {
   "cell_type": "markdown",
   "metadata": {},
   "source": [
    "En la escuela donde trabajamos tienen el siguiente sistema de notas:\n",
    "\n",
    "- Below 25 - F\n",
    "- 25 to 45 - E\n",
    "- 45 to 50 - D\n",
    "- 50 to 60 - C\n",
    "- 60 to 80 - B\n",
    "- Above 80 - A\n",
    "\n",
    "El objetivo de este ejercicio es que le preguntéis al usuario por una nota (numérica) y nosotros le devolvamos la nota con la letra que le corresponde."
   ]
  },
  {
   "cell_type": "code",
   "execution_count": 7,
   "metadata": {},
   "outputs": [
    {
     "name": "stdout",
     "output_type": "stream",
     "text": [
      "Tu nota es A.\n"
     ]
    }
   ],
   "source": [
    "#Maria\n",
    "\n",
    "nota_input = int(input(\"Introduce tu nota:\" ))\n",
    "\n",
    "if nota_input <= 25 :\n",
    "    print(\"Tu nota es F.\")\n",
    "\n",
    "elif 25 < nota_input  < 45 :\n",
    "    print(\"Tu nota es E.\")\n",
    "\n",
    "elif 45 < nota_input  < 50 :\n",
    "    print(\"Tu nota es D.\")\n",
    "\n",
    "elif 50 < nota_input  < 60 :\n",
    "    print(\"Tu nota es C.\")\n",
    "\n",
    "elif 60 < nota_input  < 80 :\n",
    "    print(\"Tu nota es B.\")\n",
    "\n",
    "elif 80 < nota_input :\n",
    "    print(\"Tu nota es A.\")\n",
    "\n"
   ]
  },
  {
   "cell_type": "code",
   "execution_count": 13,
   "metadata": {},
   "outputs": [
    {
     "name": "stdout",
     "output_type": "stream",
     "text": [
      "Bienvenido a bordo de 007.\n"
     ]
    }
   ],
   "source": [
    "# Maria impares\n",
    "# Chloe pares\n",
    "# El 10 es nuestro Bonus\n",
    "\n",
    "\"\"\"\n",
    " Ejercicio 3.\n",
    "Escribid un programa que pregunte el nombre del usuario a través de la función input(). \n",
    "Si el nombre es \"Bond\" haced que imprima \"Bienvenido a bordo de 007\". \n",
    "En caso contrario haced que imprima \"Buenos días NOMBRE\". (Reemplace NOMBRE por el nombre del usuario).\n",
    "\"\"\"\n",
    "\n",
    "nombre_usuario = str(input(\"Hola, ¿cómo te llamas?\"))\n",
    "\n",
    "if nombre_usuario == \"Bond\":\n",
    "    print(\"Bienvenido a bordo de 007.\")\n",
    "\n",
    "else :\n",
    "    print(f\"Buenos días {nombre_usuario}\")\n",
    "\n",
    "\n",
    "#Me queda pendiente intentar que no sea case sensitive. .upper().lower()\n"
   ]
  },
  {
   "cell_type": "code",
   "execution_count": 27,
   "metadata": {},
   "outputs": [
    {
     "name": "stdout",
     "output_type": "stream",
     "text": [
      "Estás en el grupo A.\n"
     ]
    }
   ],
   "source": [
    "\"\"\"\n",
    "Ejercicio 5:\n",
    "Los alumnos de un curso se han dividido en dos grupos A y B de acuerdo al sexo y el nombre. \n",
    "El grupo A esta formado por las mujeres con un nombre anterior a la M y los hombres con un nombre posterior a la N \n",
    "y el grupo B por el resto. Escribid un programa que pregunte al usuario su nombre y sexo, \n",
    "y muestre por pantalla el grupo que le corresponde.\n",
    "\"\"\"\n",
    "\n",
    "nombre = \"M\"\n",
    "genero = [\"Masculino\"]\n",
    "\n",
    "\n",
    "input_nombre = input(\"Dime la inicial de tu nombre: \")\n",
    "input_genero = input(\"Elige el género con el que te identifiques: Masculino o Femenino\")\n",
    "\n",
    "if input_nombre >= nombre \n",
    "    print(input_genero)\n",
    "\n",
    "    print(\"Estás en el grupo A.\")\n",
    "\n",
    "elif input_nombre <= nombre and input_genero == genero :\n",
    "    print(\"Estas en el grupo B.\")\n",
    "\n",
    "elif input_nombre >= nombre and input_genero != genero :\n",
    "    print(\"Estas en el grupo B\")\n",
    "else :\n",
    "    print(\"Estás en el grupo A.\")\n",
    "\n",
    "\n",
    "\n"
   ]
  },
  {
   "cell_type": "code",
   "execution_count": 31,
   "metadata": {},
   "outputs": [
    {
     "data": {
      "text/plain": [
       "True"
      ]
     },
     "execution_count": 31,
     "metadata": {},
     "output_type": "execute_result"
    }
   ],
   "source": [
    "\"X\" >= nombre"
   ]
  },
  {
   "cell_type": "code",
   "execution_count": null,
   "metadata": {},
   "outputs": [],
   "source": [
    "\"\"\"El objetivo de este ejercicio es añadir elementos a una lista utilizando el bucle while:\n",
    "- Cread una lista vacía\n",
    "\n",
    "\"\"\""
   ]
  }
 ],
 "metadata": {
  "kernelspec": {
   "display_name": "Python 3.9.7 ('base': conda)",
   "language": "python",
   "name": "python3"
  },
  "language_info": {
   "codemirror_mode": {
    "name": "ipython",
    "version": 3
   },
   "file_extension": ".py",
   "mimetype": "text/x-python",
   "name": "python",
   "nbconvert_exporter": "python",
   "pygments_lexer": "ipython3",
   "version": "3.9.7"
  },
  "orig_nbformat": 4,
  "vscode": {
   "interpreter": {
    "hash": "8e1f904fe714ccd05b7907fe541d28c2ec20b612a1af6f34d013e1f0fd7aabf1"
   }
  }
 },
 "nbformat": 4,
 "nbformat_minor": 2
}
