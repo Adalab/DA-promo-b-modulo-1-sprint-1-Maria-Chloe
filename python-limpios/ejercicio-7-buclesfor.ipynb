{
 "cells": [
  {
   "cell_type": "code",
   "execution_count": null,
   "metadata": {},
   "outputs": [],
   "source": [
    "# 1.Escribid un programa que pregunte al usuario una cantidad a invertir, \n",
    "# el interés anual y el número de años, y muestre por pantalla el capital obtenido en la \n",
    "# inversión cada año que dura la inversión."
   ]
  },
  {
   "cell_type": "code",
   "execution_count": 5,
   "metadata": {},
   "outputs": [],
   "source": [
    "cantidad = int(input ('¿Qué cantidad desea invertir?'))\n",
    "int_anual = int(input ('¿Qué interés anual desea recibir?'))\n",
    "años = int(input ('¿Durante cuántos años?'))\n",
    "\n",
    "\n",
    "#cantidad_año = cantidad / años \n",
    "#capital_total_año = int_anual - cantidad_año\n",
    "\n",
    "listacant = [cantidad]\n"
   ]
  },
  {
   "cell_type": "code",
   "execution_count": 10,
   "metadata": {},
   "outputs": [
    {
     "name": "stdout",
     "output_type": "stream",
     "text": [
      "Tus ganancias al año: 150.0\n"
     ]
    }
   ],
   "source": [
    "for i in listacant:\n",
    "    cantidad_año = i/años\n",
    "    ganancias_año = cantidad_año * int_anual / 100\n",
    "    \n",
    "    print(f'Tus ganancias al año: {ganancias_año}')"
   ]
  },
  {
   "cell_type": "code",
   "execution_count": null,
   "metadata": {},
   "outputs": [],
   "source": [
    "# 2.Escribid un programa en el que se pregunte al usuario por una frase y una letra,\n",
    "#  y muestre por pantalla el número de veces que aparece la letra en la frase."
   ]
  },
  {
   "cell_type": "code",
   "execution_count": 9,
   "metadata": {},
   "outputs": [
    {
     "name": "stdout",
     "output_type": "stream",
     "text": [
      "6\n"
     ]
    }
   ],
   "source": [
    "inputf = input('Introduce una frase')\n",
    "inputl = input('Dame una letra')\n",
    "listal=[]\n",
    "\n",
    "for l in inputf:\n",
    "    \n",
    "    if l == inputl:\n",
    "        listal.append(l)\n",
    "\n",
    "print(len(listal))\n",
    "    "
   ]
  },
  {
   "cell_type": "code",
   "execution_count": null,
   "metadata": {},
   "outputs": [],
   "source": [
    "#3.Escribid un programa que nos devuelva la tabla de multiplicar de un número especificado en una función input"
   ]
  },
  {
   "cell_type": "code",
   "execution_count": 12,
   "metadata": {},
   "outputs": [
    {
     "name": "stdout",
     "output_type": "stream",
     "text": [
      "0\n",
      "5\n",
      "10\n",
      "15\n",
      "20\n",
      "25\n",
      "30\n",
      "35\n",
      "40\n",
      "45\n",
      "50\n"
     ]
    }
   ],
   "source": [
    "num = int(input('Dame un numero y te doy su tabla'))\n",
    "\n",
    "for i in range(11):\n",
    "    print(i * num)"
   ]
  },
  {
   "cell_type": "code",
   "execution_count": null,
   "metadata": {},
   "outputs": [],
   "source": [
    "# 4. Dada una lista de numeros:\n",
    "# Escribid un programa que muestre sólo los números de una lista que cumplan las siguientes condiciones:\n",
    "#    El número debe ser divisible entre cinco\n",
    "#    Si el número es mayor que 150, se salta y se pasa al siguiente número\n",
    "#    Si el número es mayor que 500, entonces detenga el bucle"
   ]
  },
  {
   "cell_type": "code",
   "execution_count": 28,
   "metadata": {},
   "outputs": [
    {
     "name": "stdout",
     "output_type": "stream",
     "text": [
      "[75, 150, 145]\n"
     ]
    }
   ],
   "source": [
    "numbers = [12, 75, 150, 180, 145, 525, 50]\n",
    "listan=[]\n",
    "for i in numbers:\n",
    "    if i > 500:\n",
    "        break\n",
    "    elif i > 150:\n",
    "        pass\n",
    "    elif i % 5 == 0:\n",
    "        listan.append(i)\n",
    "\n",
    "print(listan)"
   ]
  },
  {
   "cell_type": "code",
   "execution_count": 32,
   "metadata": {},
   "outputs": [
    {
     "name": "stdout",
     "output_type": "stream",
     "text": [
      "[75, 150, 145, 50]\n"
     ]
    }
   ],
   "source": [
    "#Para comentar juntas, nos faltaba un else para que hiciera la criba\n",
    "\n",
    "numbers = [12, 75, 150, 180, 145, 525, 50]\n",
    "listan=[]\n",
    "for i in numbers:\n",
    "    if i % 5 == 0:\n",
    "        if i > 150:\n",
    "            pass\n",
    "        elif i > 500:\n",
    "            break\n",
    "        else:\n",
    "            listan.append(i)\n",
    "\n",
    "print(listan)\n"
   ]
  },
  {
   "cell_type": "code",
   "execution_count": null,
   "metadata": {},
   "outputs": [],
   "source": [
    "# 5. Dada una lista:\n",
    "# Imprimir la lista en orden inverso"
   ]
  },
  {
   "cell_type": "code",
   "execution_count": 17,
   "metadata": {},
   "outputs": [
    {
     "data": {
      "text/plain": [
       "[50, 40, 30]"
      ]
     },
     "execution_count": 17,
     "metadata": {},
     "output_type": "execute_result"
    }
   ],
   "source": [
    "list1 = [10, 20, 30, 40, 50]\n",
    "\n",
    "    \n",
    "listrev = [list1[-1] and list1.pop() for i in list1]\n",
    "listrev"
   ]
  },
  {
   "cell_type": "code",
   "execution_count": 18,
   "metadata": {},
   "outputs": [
    {
     "data": {
      "text/plain": [
       "[50, 40, 30, 20, 10]"
      ]
     },
     "execution_count": 18,
     "metadata": {},
     "output_type": "execute_result"
    }
   ],
   "source": [
    "list1 = [10, 20, 30, 40, 50]\n",
    "list1.sort(reverse=True)\n",
    "\n",
    "listinversa = [i for i in list1] \n",
    "listinversa\n",
    "\n",
    "#for i in list1:\n",
    " #   print(i)"
   ]
  },
  {
   "cell_type": "code",
   "execution_count": 20,
   "metadata": {},
   "outputs": [
    {
     "ename": "AttributeError",
     "evalue": "'list' object has no attribute 'sorted'",
     "output_type": "error",
     "traceback": [
      "\u001b[0;31m---------------------------------------------------------------------------\u001b[0m",
      "\u001b[0;31mAttributeError\u001b[0m                            Traceback (most recent call last)",
      "\u001b[0;32m/tmp/ipykernel_1378/3044679673.py\u001b[0m in \u001b[0;36m<module>\u001b[0;34m\u001b[0m\n\u001b[1;32m      2\u001b[0m \u001b[0;34m\u001b[0m\u001b[0m\n\u001b[1;32m      3\u001b[0m \u001b[0;32mfor\u001b[0m \u001b[0mi\u001b[0m \u001b[0;32min\u001b[0m \u001b[0mlistlist\u001b[0m\u001b[0;34m:\u001b[0m\u001b[0;34m\u001b[0m\u001b[0;34m\u001b[0m\u001b[0m\n\u001b[0;32m----> 4\u001b[0;31m     \u001b[0mprint\u001b[0m\u001b[0;34m(\u001b[0m\u001b[0mlistlist\u001b[0m\u001b[0;34m.\u001b[0m\u001b[0msorted\u001b[0m\u001b[0;34m(\u001b[0m\u001b[0mreverse\u001b[0m\u001b[0;34m=\u001b[0m\u001b[0;32mTrue\u001b[0m\u001b[0;34m)\u001b[0m\u001b[0;34m)\u001b[0m\u001b[0;34m\u001b[0m\u001b[0;34m\u001b[0m\u001b[0m\n\u001b[0m",
      "\u001b[0;31mAttributeError\u001b[0m: 'list' object has no attribute 'sorted'"
     ]
    }
   ],
   "source": [
    "listlist = [10,20,30,40,50]\n",
    "\n",
    "for i in listlist:\n",
    "    print(listlist.sorted(reverse=True))"
   ]
  },
  {
   "cell_type": "code",
   "execution_count": 19,
   "metadata": {},
   "outputs": [
    {
     "ename": "TypeError",
     "evalue": "'NoneType' object is not iterable",
     "output_type": "error",
     "traceback": [
      "\u001b[0;31m---------------------------------------------------------------------------\u001b[0m",
      "\u001b[0;31mTypeError\u001b[0m                                 Traceback (most recent call last)",
      "\u001b[0;32m/tmp/ipykernel_1378/3728509249.py\u001b[0m in \u001b[0;36m<module>\u001b[0;34m\u001b[0m\n\u001b[1;32m      1\u001b[0m \u001b[0mlist1\u001b[0m \u001b[0;34m=\u001b[0m \u001b[0;34m[\u001b[0m\u001b[0;36m10\u001b[0m\u001b[0;34m,\u001b[0m \u001b[0;36m20\u001b[0m\u001b[0;34m,\u001b[0m \u001b[0;36m30\u001b[0m\u001b[0;34m,\u001b[0m \u001b[0;36m40\u001b[0m\u001b[0;34m,\u001b[0m \u001b[0;36m50\u001b[0m\u001b[0;34m]\u001b[0m\u001b[0;34m\u001b[0m\u001b[0;34m\u001b[0m\u001b[0m\n\u001b[1;32m      2\u001b[0m \u001b[0;34m\u001b[0m\u001b[0m\n\u001b[0;32m----> 3\u001b[0;31m \u001b[0mlistreverse\u001b[0m \u001b[0;34m=\u001b[0m \u001b[0;34m[\u001b[0m\u001b[0mi\u001b[0m \u001b[0;32mfor\u001b[0m \u001b[0mi\u001b[0m \u001b[0;32min\u001b[0m \u001b[0mlist1\u001b[0m\u001b[0;34m.\u001b[0m\u001b[0msort\u001b[0m\u001b[0;34m(\u001b[0m\u001b[0mreverse\u001b[0m\u001b[0;34m=\u001b[0m\u001b[0;32mTrue\u001b[0m\u001b[0;34m)\u001b[0m\u001b[0;34m]\u001b[0m\u001b[0;34m\u001b[0m\u001b[0;34m\u001b[0m\u001b[0m\n\u001b[0m\u001b[1;32m      4\u001b[0m \u001b[0mlistreverse\u001b[0m\u001b[0;34m\u001b[0m\u001b[0;34m\u001b[0m\u001b[0m\n",
      "\u001b[0;31mTypeError\u001b[0m: 'NoneType' object is not iterable"
     ]
    }
   ],
   "source": [
    "list1 = [10, 20, 30, 40, 50]\n",
    "\n",
    "listreverse = [i for i in list1.sort(reverse=True)]\n",
    "listreverse"
   ]
  },
  {
   "cell_type": "code",
   "execution_count": null,
   "metadata": {},
   "outputs": [],
   "source": [
    "# 6.Dado el siguiente código:\n",
    "# Usando un try ... except, cread un programa para evitar que nos de un error el código anterior. \n",
    "# En su lugar, si se encuentra un error, deberéis poner el código necesario para que no nos devuelva error."
   ]
  },
  {
   "cell_type": "code",
   "execution_count": 33,
   "metadata": {},
   "outputs": [
    {
     "name": "stdout",
     "output_type": "stream",
     "text": [
      "1\n",
      "error corregido\n",
      "4\n",
      "error corregido\n",
      "9\n",
      "error corregido\n"
     ]
    }
   ],
   "source": [
    "for i in ['1','2','3']:\n",
    "    try:\n",
    "        print (i**2)\n",
    "    except:\n",
    "        print (int(i)**2)\n",
    "        print ('error corregido')"
   ]
  }
 ],
 "metadata": {
  "kernelspec": {
   "display_name": "Python 3.9.7 ('base')",
   "language": "python",
   "name": "python3"
  },
  "language_info": {
   "codemirror_mode": {
    "name": "ipython",
    "version": 3
   },
   "file_extension": ".py",
   "mimetype": "text/x-python",
   "name": "python",
   "nbconvert_exporter": "python",
   "pygments_lexer": "ipython3",
   "version": "3.9.7"
  },
  "orig_nbformat": 4,
  "vscode": {
   "interpreter": {
    "hash": "6be5d780ee9b0e6fe20ff9090f4981b24f52f07297829e94136e87c5137905e3"
   }
  }
 },
 "nbformat": 4,
 "nbformat_minor": 2
}
