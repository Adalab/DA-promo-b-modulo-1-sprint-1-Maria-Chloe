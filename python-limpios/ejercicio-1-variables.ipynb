{
 "cells": [
  {
   "cell_type": "code",
   "execution_count": 1,
   "metadata": {},
   "outputs": [
    {
     "name": "stdout",
     "output_type": "stream",
     "text": [
      "Bienvenida a este juego adivinatorio\n",
      "Tienes  2  intentos para adivinar un numero entre el 3 y el 6\n",
      "Intento X: 4\n",
      "Era el numero  3  ¿lo adivinaste?\n"
     ]
    }
   ],
   "source": [
    "\n",
    "# Imports\n",
    "\n",
    "import math\n",
    "import random\n",
    "\n",
    "# Definición de variables\n",
    "\n",
    "bienvenida = 'Bienvenida a este juego adivinatorio'\n",
    "lim_superior = 6\n",
    "lim_inferior = 3\n",
    "intentos_permitidos = round(math.log(lim_superior - lim_inferior + 1,2))\n",
    "numero_secreto = random.randint(lim_inferior,lim_superior)\n",
    "\n",
    "#Bienvenida al juego\n",
    "\n",
    "print(bienvenida)\n",
    "\n",
    "# Adivinar numero intentos permitidos -x\n",
    "print('Tienes ', intentos_permitidos, ' intentos para adivinar un numero entre el 3 y el 6')\n",
    "dame_un_numero = input('Escoge un numero del 3 al 6: ')\n",
    "\n",
    "# Información sobre el intento del usuario\n",
    "\n",
    "mensaje_intento = 'Intento X: ' + dame_un_numero\n",
    "print(mensaje_intento)\n",
    "\n",
    "# Mensaje final\n",
    "\n",
    "print('Era el numero ', str(numero_secreto), ' ¿lo adivinaste?')\n"
   ]
  },
  {
   "cell_type": "code",
   "execution_count": 2,
   "metadata": {},
   "outputs": [
    {
     "name": "stdout",
     "output_type": "stream",
     "text": [
      "Intento 1: 4\n"
     ]
    }
   ],
   "source": [
    "# Bonus\n",
    "lista_de_intentos = []\n",
    "lista_de_intentos.append(dame_un_numero)\n",
    "x = str(len(lista_de_intentos))\n",
    "\n",
    "mensaje_intento_2 = 'Intento '+ x + ': ' + dame_un_numero\n",
    "print (mensaje_intento_2)\n"
   ]
  },
  {
   "cell_type": "code",
   "execution_count": 31,
   "metadata": {},
   "outputs": [
    {
     "name": "stdout",
     "output_type": "stream",
     "text": [
      "Bienvenida a este juego adivinatorio\n"
     ]
    }
   ],
   "source": [
    "# Ejercicio con Bonus\n",
    "\n",
    "# Imports\n",
    "\n",
    "import math\n",
    "import random\n",
    "\n",
    "# Definición de variables\n",
    "\n",
    "bienvenida = 'Bienvenida a este juego adivinatorio'\n",
    "lim_superior = 10\n",
    "lim_inferior = 1\n",
    "intentos_permitidos = round(math.log(lim_superior - lim_inferior + 1,2))\n",
    "numero_secreto = random.randint(lim_inferior,lim_superior)\n",
    "lista_de_intentos = []\n",
    "\n",
    "x = len(lista_de_intentos)\n",
    "\n",
    "#Bienvenida al juego\n",
    "\n",
    "print(bienvenida)"
   ]
  },
  {
   "cell_type": "code",
   "execution_count": 32,
   "metadata": {},
   "outputs": [
    {
     "name": "stdout",
     "output_type": "stream",
     "text": [
      "Tienes  3  intentos\n"
     ]
    }
   ],
   "source": [
    "# Adivinar numero intentos permitidos -x\n",
    "\n",
    "dame_un_numero = input('Escoge un numero del '+ str(lim_inferior) +\"al \"+str(lim_superior))\n",
    "print('Tienes ', intentos_permitidos, ' intentos')"
   ]
  },
  {
   "cell_type": "code",
   "execution_count": 33,
   "metadata": {},
   "outputs": [
    {
     "name": "stdout",
     "output_type": "stream",
     "text": [
      "Intento 1: 5\n",
      "Era el numero  9  ¿lo adivinaste?\n"
     ]
    }
   ],
   "source": [
    "# Información sobre el intento del usuario\n",
    "\n",
    "lista_de_intentos.append(dame_un_numero)\n",
    "x_string = str(len(lista_de_intentos))\n",
    "\n",
    "mensaje_intento_2 = 'Intento '+ x_string + ': ' + dame_un_numero\n",
    "print (mensaje_intento_2)"
   ]
  },
  {
   "cell_type": "code",
   "execution_count": 34,
   "metadata": {},
   "outputs": [
    {
     "name": "stdout",
     "output_type": "stream",
     "text": [
      "Era el numero  9  ¿lo adivinaste?\n"
     ]
    }
   ],
   "source": [
    "# Mensaje final\n",
    "\n",
    "print('Era el numero ', str(numero_secreto), ' ¿lo adivinaste?')"
   ]
  }
 ],
 "metadata": {
  "kernelspec": {
   "display_name": "Python 3.9.7 ('base': conda)",
   "language": "python",
   "name": "python3"
  },
  "language_info": {
   "codemirror_mode": {
    "name": "ipython",
    "version": 3
   },
   "file_extension": ".py",
   "mimetype": "text/x-python",
   "name": "python",
   "nbconvert_exporter": "python",
   "pygments_lexer": "ipython3",
   "version": "3.9.7"
  },
  "orig_nbformat": 4,
  "vscode": {
   "interpreter": {
    "hash": "8e1f904fe714ccd05b7907fe541d28c2ec20b612a1af6f34d013e1f0fd7aabf1"
   }
  }
 },
 "nbformat": 4,
 "nbformat_minor": 2
}
