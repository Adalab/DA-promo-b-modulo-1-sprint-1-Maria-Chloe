{
 "cells": [
  {
   "cell_type": "code",
   "execution_count": 1,
   "metadata": {},
   "outputs": [
    {
     "name": "stdout",
     "output_type": "stream",
     "text": [
      "Bienvenida a este juego adivinatorio\n",
      "Tienes  2  intentos para adivinar un numero entre el 3 y el 6\n",
      "Intento X: 5\n",
      "Era el numero  5  ¿lo adivinaste?\n"
     ]
    }
   ],
   "source": [
    "\n",
    "# Imports\n",
    "\n",
    "import math\n",
    "import random\n",
    "\n",
    "# Definición de variables\n",
    "\n",
    "bienvenida = 'Bienvenida a este juego adivinatorio'\n",
    "lim_superior = 6\n",
    "lim_inferior = 3\n",
    "intentos_permitidos = round(math.log(lim_superior - lim_inferior + 1,2))\n",
    "numero_secreto = random.randint(lim_inferior,lim_superior)\n",
    "\n",
    "#Bienvenida al juego\n",
    "\n",
    "print(bienvenida)\n",
    "\n",
    "# Adivinar numero intentos permitidos -x\n",
    "print('Tienes ', intentos_permitidos, ' intentos para adivinar un numero entre el 3 y el 6')\n",
    "dame_un_numero = input('Escoge un numero del 3 al 6: ')\n",
    "\n",
    "# Información sobre el intento del usuario\n",
    "\n",
    "mensaje_intento = 'Intento X: ' + dame_un_numero\n",
    "print(mensaje_intento)\n",
    "\n",
    "# Mensaje final\n",
    "\n",
    "print('Era el numero ', str(numero_secreto), ' ¿lo adivinaste?')\n"
   ]
  },
  {
   "cell_type": "code",
   "execution_count": 20,
   "metadata": {},
   "outputs": [
    {
     "name": "stdout",
     "output_type": "stream",
     "text": [
      "Intento 1: 5\n"
     ]
    }
   ],
   "source": [
    "# Bonus\n",
    "lista_de_intentos = []\n",
    "lista_de_intentos.append(dame_un_numero)\n",
    "x = str(len(lista_de_intentos))\n",
    "\n",
    "mensaje_intento_2 = 'Intento '+ x + ': ' + dame_un_numero\n",
    "print (mensaje_intento_2)\n"
   ]
  },
  {
   "cell_type": "code",
   "execution_count": 29,
   "metadata": {},
   "outputs": [
    {
     "name": "stdout",
     "output_type": "stream",
     "text": [
      "Bienvenida a este juego adivinatorio\n",
      "Tienes  2  intentos para adivinar un numero entre el 3 y el 6\n",
      "Intento 1: 4\n",
      "Era el numero  6  ¿lo adivinaste?\n"
     ]
    }
   ],
   "source": [
    "# Ejercicio con Bonus\n",
    "\n",
    "# Imports\n",
    "\n",
    "import math\n",
    "import random\n",
    "\n",
    "# Definición de variables\n",
    "\n",
    "bienvenida = 'Bienvenida a este juego adivinatorio'\n",
    "lim_superior = 6\n",
    "lim_inferior = 3\n",
    "intentos_permitidos = round(math.log(lim_superior - lim_inferior + 1,2))\n",
    "numero_secreto = random.randint(lim_inferior,lim_superior)\n",
    "\n",
    "x = len(lista_de_intentos)\n",
    "\n",
    "#Bienvenida al juego\n",
    "\n",
    "print(bienvenida)\n",
    "\n",
    "# Adivinar numero intentos permitidos -x\n",
    "dame_un_numero = input('Escoge un numero del 3 al 6: ')\n",
    "print('Tienes ', intentos_permitidos, ' intentos para adivinar un numero entre el 3 y el 6')\n",
    "\n",
    "# Información sobre el intento del usuario\n",
    "lista_de_intentos = []\n",
    "lista_de_intentos.append(dame_un_numero)\n",
    "x_string = str(len(lista_de_intentos))\n",
    "\n",
    "mensaje_intento_2 = 'Intento '+ x_string + ': ' + dame_un_numero\n",
    "print (mensaje_intento_2)\n",
    "\n",
    "\n",
    "# Mensaje final\n",
    "\n",
    "print('Era el numero ', str(numero_secreto), ' ¿lo adivinaste?')\n"
   ]
  },
  {
   "cell_type": "code",
   "execution_count": 27,
   "metadata": {},
   "outputs": [
    {
     "name": "stdout",
     "output_type": "stream",
     "text": [
      "['5']\n"
     ]
    }
   ],
   "source": [
    "print(lista_de_intentos)"
   ]
  }
 ],
 "metadata": {
  "kernelspec": {
   "display_name": "Python 3.9.7 ('base')",
   "language": "python",
   "name": "python3"
  },
  "language_info": {
   "codemirror_mode": {
    "name": "ipython",
    "version": 3
   },
   "file_extension": ".py",
   "mimetype": "text/x-python",
   "name": "python",
   "nbconvert_exporter": "python",
   "pygments_lexer": "ipython3",
   "version": "3.9.7"
  },
  "orig_nbformat": 4,
  "vscode": {
   "interpreter": {
    "hash": "6be5d780ee9b0e6fe20ff9090f4981b24f52f07297829e94136e87c5137905e3"
   }
  }
 },
 "nbformat": 4,
 "nbformat_minor": 2
}
