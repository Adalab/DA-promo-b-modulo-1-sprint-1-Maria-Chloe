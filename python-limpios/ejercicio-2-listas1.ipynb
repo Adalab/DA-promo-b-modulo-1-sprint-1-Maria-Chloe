{
 "cells": [
  {
   "cell_type": "code",
   "execution_count": 13,
   "metadata": {},
   "outputs": [
    {
     "name": "stdout",
     "output_type": "stream",
     "text": [
      "Bienvenidas al cerebro de esta máquina, voy a enseñaros todo lo que sé hacer...\n",
      "Has introducido la lista de números [1, 2, 3, 4, 5, 6, 7, 8, 9, 10, 11, 12]\n",
      "Tu lista tiene  12  elementos del numero  1  al  12 .\n",
      "¿Estaba el número secreto en tu lista?\n",
      "True\n",
      "Era el número  3\n",
      "¡Fin del juego!\n"
     ]
    }
   ],
   "source": [
    "#PAIR PROGRAMMING LISTAS 1\n",
    "# Imports\n",
    "import random\n",
    "\n",
    "# Definición de variables\n",
    "lim_inferior = 3\n",
    "lim_superior = 12\n",
    "bienvenida = \"Bienvenidas al cerebro de esta máquina, voy a enseñaros todo lo que sé hacer...\"\n",
    "str_input = \"Lista de números, separado por espacios: \"\n",
    "numero_secreto = random.randint(lim_inferior,lim_superior)\n",
    "fin_del_juego = '¡Fin del juego!'\n",
    "\n",
    "# Bienvenida al juego\n",
    "print(bienvenida)\n",
    "\n",
    "# User introduce input\n",
    "num_list = list(int(num) for num in input(str_input).strip().split())\n",
    "print('Has introducido la lista de números', num_list)\n",
    "\n",
    "# ¿Como es la lista del usuario?\n",
    "print(\"Tu lista tiene \", len(num_list), \" elementos del numero \", min(num_list), \" al \", max(num_list), \".\")\n",
    "\n",
    "# ¿Ha adivinado el numero?\n",
    "print ('¿Estaba el número secreto en tu lista?')\n",
    "print (numero_secreto in num_list)\n",
    "\n",
    "print ('Era el número ', numero_secreto)\n",
    "\n",
    "# Fin del juego\n",
    "print (fin_del_juego) \n"
   ]
  }
 ],
 "metadata": {
  "kernelspec": {
   "display_name": "Python 3.9.7 ('base')",
   "language": "python",
   "name": "python3"
  },
  "language_info": {
   "codemirror_mode": {
    "name": "ipython",
    "version": 3
   },
   "file_extension": ".py",
   "mimetype": "text/x-python",
   "name": "python",
   "nbconvert_exporter": "python",
   "pygments_lexer": "ipython3",
   "version": "3.9.7"
  },
  "orig_nbformat": 4,
  "vscode": {
   "interpreter": {
    "hash": "6be5d780ee9b0e6fe20ff9090f4981b24f52f07297829e94136e87c5137905e3"
   }
  }
 },
 "nbformat": 4,
 "nbformat_minor": 2
}
