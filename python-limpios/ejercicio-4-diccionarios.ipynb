{
 "cells": [
  {
   "cell_type": "code",
   "execution_count": 1,
   "metadata": {},
   "outputs": [
    {
     "name": "stdout",
     "output_type": "stream",
     "text": [
      "Bienvenida a este juego, darling!\n",
      "Escribe el número del tema con el que quieres jugar: 1:Colors, 2:Shapes, 3:Fruits, 4:Animals.\n",
      "Elegiste el tema Colors\n",
      "Escribe la palabra de la categoría Colors que estoy pensando.\n",
      "Elegiste la palabra red\n",
      "¿Adivinaste?\n",
      "False\n",
      "Era la palabra blue\n",
      "¡Hasta la próxima!\n"
     ]
    }
   ],
   "source": [
    "# PAIR PROGRAMMING DICCIONARIOS\n",
    "# Imports\n",
    "import random\n",
    "\n",
    "# Variables, listas y diccionarios\n",
    "words = {'Colors':'red orange yellow green blue indigo violet white black brown'.split(),\n",
    "'Shapes':'square triangle rectangle circle ellipse rhombus trapezoid chevron pentagon hexagon septagon octagon'.split(),\n",
    "'Fruits':'apple orange lemon lime pear watermelon grape grapefruit cherry banana cantaloupe mango strawberry tomato'.split(),\n",
    "'Animals':'bat bear beaver cat cougar crab deer dog donkey duck eagle fish frog goat leech lion lizard monkey moose mouse otter owl panda python rabbit rat shark sheep skunk squid tiger turkey turtle weasel whale wolf wombat zebra'.split()}\n",
    "\n",
    "bienvenida = 'Bienvenida a este juego, darling!'\n",
    "elige_una_key = 'Escribe el número del tema con el que quieres jugar: 1:Colors, 2:Shapes, 3:Fruits, 4:Animals.'\n",
    "has_adivinado = '¿Adivinaste?'\n",
    "\n",
    "lista_keys = ['Colors', 'Shapes', 'Fruits','Animals']\n",
    "\n",
    "# Bienvenida al juego\n",
    "print(bienvenida)\n",
    "\n",
    "# Usuario elije un tema (una key)\n",
    "print(elige_una_key)\n",
    "eleccion_usuario = input('Escribe un número del 1 al 4')\n",
    "print('Elegiste el tema', lista_keys[int(eleccion_usuario)-1])\n",
    "\n",
    "# Usuario adivina una palabra de ese tema\n",
    "elige_una_word = 'Escribe la palabra de la categoría ' + str(lista_keys[int(eleccion_usuario)-1]) + ' que estoy pensando.'\n",
    "print(elige_una_word)\n",
    "intento_usuario = input('¿Qué palabra vas a elegir?')\n",
    "print('Elegiste la palabra', intento_usuario)\n",
    "\n",
    "# ¿Ha adivinado?\n",
    "print(has_adivinado)\n",
    "word_list = words[lista_keys[int(eleccion_usuario)-1]]\n",
    "word_secreta = random.randint(0, len(word_list)-1)\n",
    "palabra_secreta = word_list[word_secreta]\n",
    "\n",
    "print(intento_usuario==palabra_secreta)\n",
    "\n",
    "# Fin del juego\n",
    "print('Era la palabra', palabra_secreta)\n",
    "print('¡Hasta la próxima!')\n"
   ]
  }
 ],
 "metadata": {
  "kernelspec": {
   "display_name": "Python 3.9.7 ('base')",
   "language": "python",
   "name": "python3"
  },
  "language_info": {
   "name": "python",
   "version": "3.9.7"
  },
  "orig_nbformat": 4,
  "vscode": {
   "interpreter": {
    "hash": "6be5d780ee9b0e6fe20ff9090f4981b24f52f07297829e94136e87c5137905e3"
   }
  }
 },
 "nbformat": 4,
 "nbformat_minor": 2
}
