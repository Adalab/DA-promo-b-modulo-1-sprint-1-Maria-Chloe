{
 "cells": [
  {
   "cell_type": "code",
   "execution_count": 23,
   "metadata": {},
   "outputs": [],
   "source": [
    "import random\n",
    "\n",
    "# Variables, listas y diccionarios\n",
    "words = {'Colors':'red orange yellow green blue indigo violet white black brown'.split(),\n",
    "'Shapes':'square triangle rectangle circle ellipse rhombus trapezoid chevron pentagon hexagon septagon octagon'.split(),\n",
    "'Fruits':'apple orange lemon lime pear watermelon grape grapefruit cherry banana cantaloupe mango strawberry tomato'.split(),\n",
    "'Animals':'bat bear beaver cat cougar crab deer dog donkey duck eagle fish frog goat leech lion lizard monkey moose mouse otter owl panda python rabbit rat shark sheep skunk squid tiger turkey turtle weasel whale wolf wombat zebra'.split()}\n",
    "\n",
    "bienvenida = 'Bienvenida a este juego, darling!'\n",
    "elige_una_key = 'Escribe el número del tema con el que quieres jugar: 1:Colors, 2:Shapes, 3:Fruits, 4:Animals.'\n",
    "has_adivinado = '¿Adivinaste?'\n",
    "\n",
    "lista_keys = ['Colors', 'Shapes', 'Fruits','Animals']"
   ]
  },
  {
   "cell_type": "code",
   "execution_count": 24,
   "metadata": {},
   "outputs": [
    {
     "name": "stdout",
     "output_type": "stream",
     "text": [
      "Bienvenida a este juego, darling!\n",
      "Elegiste el tema Animals\n"
     ]
    }
   ],
   "source": [
    "# Bienvenida al juego\n",
    "print(bienvenida)\n",
    "\n",
    "# Usuario elije un tema (una key)\n",
    "tema_elegido = input(elige_una_key)\n",
    "eleccion_usuario = lista_keys[int(tema_elegido)-1]\n",
    "print('Elegiste el tema', eleccion_usuario)\n",
    "\n"
   ]
  },
  {
   "cell_type": "code",
   "execution_count": 25,
   "metadata": {},
   "outputs": [
    {
     "name": "stdout",
     "output_type": "stream",
     "text": [
      "Elegiste la palabra cat\n"
     ]
    }
   ],
   "source": [
    "# Usuario adivina una palabra de ese tema\n",
    "elige_una_word = input('Escribe la palabra de la categoría ' + str(eleccion_usuario) + ' que estoy pensando.')\n",
    "\n",
    "print('Elegiste la palabra', elige_una_word)"
   ]
  },
  {
   "cell_type": "code",
   "execution_count": 26,
   "metadata": {},
   "outputs": [
    {
     "name": "stdout",
     "output_type": "stream",
     "text": [
      "¿Adivinaste?\n",
      "False\n"
     ]
    }
   ],
   "source": [
    "# ¿Ha adivinado?\n",
    "print(has_adivinado)\n",
    "word_list = words[lista_keys[int(tema_elegido)-1]]\n",
    "word_secreta = random.randint(0, len(word_list)-1)\n",
    "palabra_secreta = word_list[word_secreta]\n",
    "\n",
    "print(elige_una_word==palabra_secreta)"
   ]
  },
  {
   "cell_type": "code",
   "execution_count": 27,
   "metadata": {},
   "outputs": [
    {
     "name": "stdout",
     "output_type": "stream",
     "text": [
      "Era la palabra squid\n",
      "¡Hasta la próxima!\n"
     ]
    }
   ],
   "source": [
    "# Fin del juego\n",
    "print('Era la palabra', palabra_secreta)\n",
    "print('¡Hasta la próxima!')"
   ]
  }
 ],
 "metadata": {
  "kernelspec": {
   "display_name": "Python 3.9.7 ('base': conda)",
   "language": "python",
   "name": "python3"
  },
  "language_info": {
   "codemirror_mode": {
    "name": "ipython",
    "version": 3
   },
   "file_extension": ".py",
   "mimetype": "text/x-python",
   "name": "python",
   "nbconvert_exporter": "python",
   "pygments_lexer": "ipython3",
   "version": "3.9.7"
  },
  "orig_nbformat": 4,
  "vscode": {
   "interpreter": {
    "hash": "8e1f904fe714ccd05b7907fe541d28c2ec20b612a1af6f34d013e1f0fd7aabf1"
   }
  }
 },
 "nbformat": 4,
 "nbformat_minor": 2
}
