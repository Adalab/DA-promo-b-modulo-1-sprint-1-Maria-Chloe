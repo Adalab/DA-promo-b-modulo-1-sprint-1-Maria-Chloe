{
 "cells": [
  {
   "cell_type": "code",
   "execution_count": 42,
   "metadata": {},
   "outputs": [],
   "source": [
    "import random\n",
    "\n",
    "# Variables, listas y diccionarios\n",
    "words = {'Colors':'red orange yellow green blue indigo violet white black brown'.split(),\n",
    "'Shapes':'square triangle rectangle circle ellipse rhombus trapezoid chevron pentagon hexagon septagon octagon'.split(),\n",
    "'Fruits':'apple orange lemon lime pear watermelon grape grapefruit cherry banana cantaloupe mango strawberry tomato'.split(),\n",
    "'Animals':'bat bear beaver cat cougar crab deer dog donkey duck eagle fish frog goat leech lion lizard monkey moose mouse otter owl panda python rabbit rat shark sheep skunk squid tiger turkey turtle weasel whale wolf wombat zebra'.split()}"
   ]
  },
  {
   "cell_type": "code",
   "execution_count": 50,
   "metadata": {},
   "outputs": [],
   "source": [
    "# Bonus1:Las categorías es una lista de las claves del diccionario. Si amplio el diccionario se deberían cambiar automáticamente\n",
    "categorias = list(words.keys())\n",
    "\n",
    "rango = list(range(1,len(categorias)+1))\n",
    "\n",
    "dict_from_list = dict(zip(rango, categorias))"
   ]
  },
  {
   "cell_type": "code",
   "execution_count": 51,
   "metadata": {},
   "outputs": [],
   "source": [
    "bienvenida = 'Bienvenida a este juego, darling!'\n",
    "elige_una_key = 'Escribe el número del tema con el que quieres jugar: '+ str(dict_from_list)\n",
    "has_adivinado = '¿Adivinaste?'"
   ]
  },
  {
   "cell_type": "code",
   "execution_count": 52,
   "metadata": {},
   "outputs": [
    {
     "name": "stdout",
     "output_type": "stream",
     "text": [
      "Bienvenida a este juego, darling!\n",
      "Elegiste el tema Vehicles\n"
     ]
    }
   ],
   "source": [
    "# Bienvenida al juego\n",
    "print(bienvenida)\n",
    "\n",
    "# Usuario elije un tema (una key)\n",
    "tema_elegido = input(elige_una_key)\n",
    "eleccion_usuario = categorias[int(tema_elegido)-1]\n",
    "print('Elegiste el tema', eleccion_usuario)"
   ]
  },
  {
   "cell_type": "code",
   "execution_count": 46,
   "metadata": {},
   "outputs": [
    {
     "name": "stdout",
     "output_type": "stream",
     "text": [
      "Elegiste la palabra blue\n"
     ]
    }
   ],
   "source": [
    "# Usuario adivina una palabra de ese tema\n",
    "elige_una_word = input('Escribe la palabra de la categoría ' + str(eleccion_usuario) + ' que estoy pensando.')\n",
    "\n",
    "\n",
    "print('Elegiste la palabra', elige_una_word)"
   ]
  },
  {
   "cell_type": "code",
   "execution_count": 47,
   "metadata": {},
   "outputs": [
    {
     "name": "stdout",
     "output_type": "stream",
     "text": [
      "¿Adivinaste?\n",
      "False\n"
     ]
    }
   ],
   "source": [
    "# ¿Ha adivinado?\n",
    "print(has_adivinado)\n",
    "word_list = words[categorias[int(tema_elegido)-1]]\n",
    "word_secreta = random.randint(0, len(word_list)-1)\n",
    "palabra_secreta = word_list[word_secreta]\n",
    "\n",
    "#Bonus2: El juego debe funcionar tanto con minúsculas como con mayúsculas.\n",
    "print(elige_una_word.upper().lower()==palabra_secreta.upper().lower())"
   ]
  },
  {
   "cell_type": "code",
   "execution_count": 48,
   "metadata": {},
   "outputs": [
    {
     "name": "stdout",
     "output_type": "stream",
     "text": [
      "Era la palabra yellow\n",
      "¡Hasta la próxima!\n"
     ]
    }
   ],
   "source": [
    "# Fin del juego\n",
    "print('Era la palabra', palabra_secreta)\n",
    "print('¡Hasta la próxima!')"
   ]
  },
  {
   "cell_type": "code",
   "execution_count": 49,
   "metadata": {},
   "outputs": [
    {
     "data": {
      "text/plain": [
       "['truck', 'car', 'bike', 'motorcycle', 'boat', 'helicopter', 'train']"
      ]
     },
     "execution_count": 49,
     "metadata": {},
     "output_type": "execute_result"
    }
   ],
   "source": [
    "#Pruebo a añadir más elementos al diccionario words para comprobar que me funciona dict_from_list\n",
    "\n",
    "words.setdefault(\"Vehicles\",\"truck car bike motorcycle boat helicopter train\".split())"
   ]
  }
 ],
 "metadata": {
  "kernelspec": {
   "display_name": "Python 3.9.7 ('base': conda)",
   "language": "python",
   "name": "python3"
  },
  "language_info": {
   "codemirror_mode": {
    "name": "ipython",
    "version": 3
   },
   "file_extension": ".py",
   "mimetype": "text/x-python",
   "name": "python",
   "nbconvert_exporter": "python",
   "pygments_lexer": "ipython3",
   "version": "3.9.7"
  },
  "orig_nbformat": 4,
  "vscode": {
   "interpreter": {
    "hash": "8e1f904fe714ccd05b7907fe541d28c2ec20b612a1af6f34d013e1f0fd7aabf1"
   }
  }
 },
 "nbformat": 4,
 "nbformat_minor": 2
}
