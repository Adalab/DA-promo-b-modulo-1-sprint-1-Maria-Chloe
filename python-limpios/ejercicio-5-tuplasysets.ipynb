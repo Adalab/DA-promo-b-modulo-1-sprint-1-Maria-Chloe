{
 "cells": [
  {
   "cell_type": "code",
   "execution_count": 60,
   "metadata": {},
   "outputs": [],
   "source": [
    "# Variables iniciales\n",
    "\n",
    "bienvenida = '¡Bienvenida! Vamos a jugar al tres en raya.'\n",
    "despedida = '¡Fin del juego!'\n",
    "\n",
    "board = [['-','-','-'],['-','-','-'],['-','-','-']]\n",
    "\n"
   ]
  },
  {
   "cell_type": "code",
   "execution_count": 61,
   "metadata": {},
   "outputs": [
    {
     "name": "stdout",
     "output_type": "stream",
     "text": [
      "¡Bienvenida! Vamos a jugar al tres en raya.\n",
      "- | - | -\n",
      "- | - | -\n",
      "- | - | -\n"
     ]
    }
   ],
   "source": [
    "# Tablero al inicio\n",
    "\n",
    "print (bienvenida)\n",
    "\n",
    "print (board [0][0], '|', board [0][1], '|', board [0][2])\n",
    "print (board [1][0], '|', board [1][1], '|', board [1][2])\n",
    "print (board [2][0], '|', board [2][1], '|', board [2][2])"
   ]
  },
  {
   "cell_type": "code",
   "execution_count": 62,
   "metadata": {},
   "outputs": [
    {
     "name": "stdout",
     "output_type": "stream",
     "text": [
      "Tus coordenadas son:  o 2,2\n"
     ]
    }
   ],
   "source": [
    "# Input 1ª usuaria\n",
    "\n",
    "userinput = input('''Elige una letra para tu ficha y las coordenadas del tablero del 1 al 3. \n",
    "                    Introduce la letra [espacio] posicion de las filas [,] posición de las columnas''')\n",
    "\n",
    "print ('Tus coordenadas son: ', userinput)"
   ]
  },
  {
   "cell_type": "code",
   "execution_count": 63,
   "metadata": {},
   "outputs": [],
   "source": [
    "# Extrayendo la letra\n",
    "\n",
    "letra_coor = userinput.split()\n",
    "letra = letra_coor[0]"
   ]
  },
  {
   "cell_type": "code",
   "execution_count": 64,
   "metadata": {},
   "outputs": [],
   "source": [
    "# Calculando y convirtiendo las coordenadas en índices (se podía usar ---> coor = tuple(int(co)-1 for co in coor.split(\",\")) de la plantilla)\n",
    "\n",
    "\n",
    "coors = letra_coor[1].split(',')\n",
    "coor1 = int(coors[0]) - 1\n",
    "coor2 = int (coors[1]) - 1"
   ]
  },
  {
   "cell_type": "code",
   "execution_count": 65,
   "metadata": {},
   "outputs": [
    {
     "name": "stdout",
     "output_type": "stream",
     "text": [
      "- | - | -\n",
      "- | o | -\n",
      "- | - | -\n"
     ]
    }
   ],
   "source": [
    "# Tablero despues de la participación de la primera usuaria\n",
    "\n",
    "board[coor1][coor2] = letra\n",
    "\n",
    "print (board [0][0], '|', board [0][1], '|', board [0][2])\n",
    "print (board [1][0], '|', board [1][1], '|', board [1][2])\n",
    "print (board [2][0], '|', board [2][1], '|', board [2][2])"
   ]
  },
  {
   "cell_type": "code",
   "execution_count": 66,
   "metadata": {},
   "outputs": [
    {
     "name": "stdout",
     "output_type": "stream",
     "text": [
      "Tus coordenadas son:  x 3,2\n"
     ]
    }
   ],
   "source": [
    "# Input 2ª usuaria\n",
    "\n",
    "userinput = input('''Elige una letra para tu ficha y las coordenadas del tablero. \n",
    "                    Introduce la letra [espacio] posicion de las filas [,] posición de las columnas''')\n",
    "\n",
    "print ('Tus coordenadas son: ', userinput)"
   ]
  },
  {
   "cell_type": "code",
   "execution_count": 67,
   "metadata": {},
   "outputs": [],
   "source": [
    "# Extrayendo la letra\n",
    "\n",
    "letra_coor = userinput.split()\n",
    "letra = letra_coor[0]\n"
   ]
  },
  {
   "cell_type": "code",
   "execution_count": 68,
   "metadata": {},
   "outputs": [],
   "source": [
    "# Calculando y convirtiendo las coordenadas en índices\n",
    "\n",
    "coors = letra_coor[1].split(',')\n",
    "coor1 = int(coors[0]) - 1\n",
    "coor2 = int (coors[1]) - 1"
   ]
  },
  {
   "cell_type": "code",
   "execution_count": 69,
   "metadata": {},
   "outputs": [
    {
     "name": "stdout",
     "output_type": "stream",
     "text": [
      "- | - | -\n",
      "- | o | -\n",
      "- | x | -\n"
     ]
    }
   ],
   "source": [
    "# Tablero despues de la participación de la 2ª usuaria\n",
    "\n",
    "board[coor1][coor2] = letra\n",
    "\n",
    "print (board [0][0], '|', board [0][1], '|', board [0][2])\n",
    "print (board [1][0], '|', board [1][1], '|', board [1][2])\n",
    "print (board [2][0], '|', board [2][1], '|', board [2][2])"
   ]
  },
  {
   "cell_type": "code",
   "execution_count": 71,
   "metadata": {},
   "outputs": [
    {
     "name": "stdout",
     "output_type": "stream",
     "text": [
      "¡Fin del juego!\n",
      "los 2 jugadores que han participado son:  {'x', 'o'}\n"
     ]
    }
   ],
   "source": [
    "# Fin del juego ( se podía usar ---> board_list = sum(board,[])  para sacar el mensaje final)\n",
    "\n",
    "setboard1 = set(board[0])\n",
    "setboard2 = set(board[1])\n",
    "setboard3 = set(board[2])\n",
    "setboard = setboard1.union(setboard2, setboard3)\n",
    "\n",
    "setboard.discard('-')\n",
    "\n",
    "print(despedida)\n",
    "print ('los 2 jugadores que han participado son: ', setboard)\n",
    "\n",
    "\n"
   ]
  }
 ],
 "metadata": {
  "kernelspec": {
   "display_name": "Python 3.9.7 ('base')",
   "language": "python",
   "name": "python3"
  },
  "language_info": {
   "codemirror_mode": {
    "name": "ipython",
    "version": 3
   },
   "file_extension": ".py",
   "mimetype": "text/x-python",
   "name": "python",
   "nbconvert_exporter": "python",
   "pygments_lexer": "ipython3",
   "version": "3.9.7"
  },
  "orig_nbformat": 4,
  "vscode": {
   "interpreter": {
    "hash": "6be5d780ee9b0e6fe20ff9090f4981b24f52f07297829e94136e87c5137905e3"
   }
  }
 },
 "nbformat": 4,
 "nbformat_minor": 2
}
