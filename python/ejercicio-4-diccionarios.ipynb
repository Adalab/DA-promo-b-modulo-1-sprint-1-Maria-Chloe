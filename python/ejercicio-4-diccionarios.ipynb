{
 "cells": [
  {
   "cell_type": "code",
   "execution_count": 1,
   "metadata": {},
   "outputs": [],
   "source": [
    "import random\n",
    "\n",
    "# Variables, listas y diccionarios\n",
    "words = {'Colors':'red orange yellow green blue indigo violet white black brown'.split(),\n",
    "'Shapes':'square triangle rectangle circle ellipse rhombus trapezoid chevron pentagon hexagon septagon octagon'.split(),\n",
    "'Fruits':'apple orange lemon lime pear watermelon grape grapefruit cherry banana cantaloupe mango strawberry tomato'.split(),\n",
    "'Animals':'bat bear beaver cat cougar crab deer dog donkey duck eagle fish frog goat leech lion lizard monkey moose mouse otter owl panda python rabbit rat shark sheep skunk squid tiger turkey turtle weasel whale wolf wombat zebra'.split()}"
   ]
  },
  {
   "cell_type": "code",
   "execution_count": 5,
   "metadata": {},
   "outputs": [
    {
     "data": {
      "text/plain": [
       "{1: 'Colors', 2: 'Shapes', 3: 'Fruits', 4: 'Animals'}"
      ]
     },
     "execution_count": 5,
     "metadata": {},
     "output_type": "execute_result"
    }
   ],
   "source": [
    "# Bonus1:Las categorías es una lista de las claves del diccionario. Si amplio el diccionario se deberían cambiar automáticamente\n",
    "categorias = list(words.keys())\n",
    "\n",
    "rango = list(range(1,len(categorias)+1))\n",
    "\n",
    "dict_from_list = dict(zip(rango, categorias))\n",
    "\n",
    "dict_from_list"
   ]
  },
  {
   "cell_type": "code",
   "execution_count": 6,
   "metadata": {},
   "outputs": [],
   "source": [
    "bienvenida = 'Bienvenida a este juego, darling!'\n",
    "elige_una_key = 'Escribe el número del tema con el que quieres jugar: '+ str(dict_from_list)\n",
    "has_adivinado = '¿Adivinaste?'"
   ]
  },
  {
   "cell_type": "code",
   "execution_count": 8,
   "metadata": {},
   "outputs": [
    {
     "name": "stdout",
     "output_type": "stream",
     "text": [
      "Bienvenida a este juego, darling!\n",
      "Escribe el número del tema con el que quieres jugar: {1: 'Colors', 2: 'Shapes', 3: 'Fruits', 4: 'Animals'}\n",
      "Elegiste el tema Fruits\n"
     ]
    }
   ],
   "source": [
    "# Bienvenida al juego\n",
    "print(bienvenida)\n",
    "print(elige_una_key)\n",
    "\n",
    "# Usuario elige un tema (una key)\n",
    "tema_elegido = int(input(elige_una_key))\n",
    "eleccion_usuario = categorias[tema_elegido-1]\n",
    "print('Elegiste el tema', eleccion_usuario)"
   ]
  },
  {
   "cell_type": "code",
   "execution_count": 9,
   "metadata": {},
   "outputs": [
    {
     "name": "stdout",
     "output_type": "stream",
     "text": [
      "Adivina una palabra de la categoría\n",
      "Elegiste la palabra Banana\n"
     ]
    }
   ],
   "source": [
    "# Usuario adivina una palabra de ese tema\n",
    "\n",
    "print('Adivina una palabra de la categoría')\n",
    "\n",
    "elige_una_word = input('Escribe la palabra de la categoría ' + str(eleccion_usuario) + ' que estoy pensando.')\n",
    "\n",
    "print('Elegiste la palabra', elige_una_word)"
   ]
  },
  {
   "cell_type": "code",
   "execution_count": 10,
   "metadata": {},
   "outputs": [
    {
     "name": "stdout",
     "output_type": "stream",
     "text": [
      "¿Adivinaste?\n",
      "False\n"
     ]
    }
   ],
   "source": [
    "# ¿Ha adivinado?\n",
    "print(has_adivinado)\n",
    "word_list = words[categorias[int(tema_elegido)-1]]\n",
    "word_secreta = random.randint(0, len(word_list)-1)\n",
    "palabra_secreta = word_list[word_secreta]\n",
    "\n",
    "#Bonus2: El juego debe funcionar tanto con minúsculas como con mayúsculas.\n",
    "print(elige_una_word.upper().lower()==palabra_secreta.upper().lower())"
   ]
  },
  {
   "cell_type": "code",
   "execution_count": 64,
   "metadata": {},
   "outputs": [
    {
     "name": "stdout",
     "output_type": "stream",
     "text": [
      "Era la palabra black\n",
      "¡Hasta la próxima!\n"
     ]
    }
   ],
   "source": [
    "# Fin del juego\n",
    "print('Era la palabra', palabra_secreta)\n",
    "print('¡Hasta la próxima!')"
   ]
  },
  {
   "cell_type": "code",
   "execution_count": 49,
   "metadata": {},
   "outputs": [
    {
     "data": {
      "text/plain": [
       "['truck', 'car', 'bike', 'motorcycle', 'boat', 'helicopter', 'train']"
      ]
     },
     "execution_count": 49,
     "metadata": {},
     "output_type": "execute_result"
    }
   ],
   "source": [
    "#Pruebo a añadir más elementos al diccionario words para comprobar que me funciona dict_from_list\n",
    "\n",
    "words.setdefault(\"Vehicles\",\"truck car bike motorcycle boat helicopter train\".split())"
   ]
  }
 ],
 "metadata": {
  "kernelspec": {
   "display_name": "Python 3.9.7 ('base')",
   "language": "python",
   "name": "python3"
  },
  "language_info": {
   "codemirror_mode": {
    "name": "ipython",
    "version": 3
   },
   "file_extension": ".py",
   "mimetype": "text/x-python",
   "name": "python",
   "nbconvert_exporter": "python",
   "pygments_lexer": "ipython3",
   "version": "3.9.7"
  },
  "orig_nbformat": 4,
  "vscode": {
   "interpreter": {
    "hash": "6be5d780ee9b0e6fe20ff9090f4981b24f52f07297829e94136e87c5137905e3"
   }
  }
 },
 "nbformat": 4,
 "nbformat_minor": 2
}
