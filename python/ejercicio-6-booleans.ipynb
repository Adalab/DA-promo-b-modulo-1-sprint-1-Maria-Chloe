{
 "cells": [
  {
   "cell_type": "markdown",
   "metadata": {},
   "source": [
    "A lo largo de este pair programming os presentamos una serie de ejercicios que los tendréis que resolver usando sentencias if, if ... else, if ... elif ... else o while."
   ]
  },
  {
   "cell_type": "code",
   "execution_count": 7,
   "metadata": {},
   "outputs": [
    {
     "name": "stdout",
     "output_type": "stream",
     "text": [
      "Tu nota es A.\n"
     ]
    }
   ],
   "source": [
    "\"\"\"\n",
    "Ejercicio:1\n",
    "\n",
    "En la escuela donde trabajamos tienen el siguiente sistema de notas:\n",
    "\n",
    "- Below 25 - F\n",
    "- 25 to 45 - E\n",
    "- 45 to 50 - D\n",
    "- 50 to 60 - C\n",
    "- 60 to 80 - B\n",
    "- Above 80 - A\n",
    "\n",
    "El objetivo de este ejercicio es que le preguntéis al usuario por una nota (numérica) y nosotros le devolvamos la nota con la letra que le corresponde.\n",
    "\"\"\"\n",
    "\n",
    "nota_input = int(input(\"Introduce tu nota:\" ))\n",
    "\n",
    "if nota_input <= 25 :\n",
    "    print(\"Tu nota es F.\")\n",
    "\n",
    "elif 25 < nota_input  < 45 :\n",
    "    print(\"Tu nota es E.\")\n",
    "\n",
    "elif 45 < nota_input  < 50 :\n",
    "    print(\"Tu nota es D.\")\n",
    "\n",
    "elif 50 < nota_input  < 60 :\n",
    "    print(\"Tu nota es C.\")\n",
    "\n",
    "elif 60 < nota_input  < 80 :\n",
    "    print(\"Tu nota es B.\")\n",
    "\n",
    "elif 80 < nota_input :\n",
    "    print(\"Tu nota es A.\")"
   ]
  },
  {
   "cell_type": "code",
   "execution_count": null,
   "metadata": {},
   "outputs": [],
   "source": [
    "#Ejercicio 2: Cread tres inputs donde a cada uno de ellos le preguntéis su edad, \n",
    "# el objetivo del ejercicio es determinar quien es el más viejo y el más joven."
   ]
  },
  {
   "cell_type": "code",
   "execution_count": null,
   "metadata": {},
   "outputs": [],
   "source": [
    "inputPepa = int(input('¿Cuantos años tienes, Pepa?'))\n",
    "inputPepi = int(input('¿Cuantos años tienes, Pepi?'))\n",
    "inputPepo = int(input('¿Cuantos años tienes, Pepo?'))"
   ]
  },
  {
   "cell_type": "code",
   "execution_count": null,
   "metadata": {},
   "outputs": [],
   "source": [
    "if inputPepa > inputPepi and inputPepa > inputPepo:\n",
    "    print ('Pepa, eres la mayor')\n",
    "elif inputPepi > inputPepo and inputPepi > inputPepa:\n",
    "        print ('Pepi, eres la mayor')\n",
    "elif inputPepo > inputPepa and inputPepo > inputPepi:\n",
    "        print ('Pepo, eres la mayor')\n",
    "if inputPepa < inputPepi and inputPepa < inputPepo:\n",
    "    print ('Pepa, eres la menor')\n",
    "elif inputPepi < inputPepo and inputPepi < inputPepa:\n",
    "            print ('Pepi, eres la menor')\n",
    "elif inputPepo < inputPepa and inputPepo < inputPepi:\n",
    "            print ('Pepo, eres la menor')\n",
    "else:\n",
    "    print ('Teneis la misma edad')"
   ]
  },
  {
   "cell_type": "code",
   "execution_count": 34,
   "metadata": {},
   "outputs": [
    {
     "name": "stdout",
     "output_type": "stream",
     "text": [
      "Bienvenido a bordo de 007.\n"
     ]
    }
   ],
   "source": [
    "\"\"\"\n",
    " Ejercicio 3.\n",
    "Escribid un programa que pregunte el nombre del usuario a través de la función input(). \n",
    "Si el nombre es \"Bond\" haced que imprima \"Bienvenido a bordo de 007\". \n",
    "En caso contrario haced que imprima \"Buenos días NOMBRE\". (Reemplace NOMBRE por el nombre del usuario).\n",
    "\"\"\"\n",
    "\n",
    "nombre_usuario = str(input(\"Hola, ¿cómo te llamas?\"))\n",
    "\n",
    "if nombre_usuario == \"Bond\":\n",
    "    print(\"Bienvenido a bordo de 007.\")\n",
    "\n",
    "else :\n",
    "    print(f\"Buenos días {nombre_usuario}\")\n",
    "\n",
    "\n",
    "#Me queda pendiente intentar que no sea case sensitive. .upper().lower()\n"
   ]
  },
  {
   "cell_type": "code",
   "execution_count": null,
   "metadata": {},
   "outputs": [],
   "source": [
    "# Ejercicio 4: `arbol` es un diccionario que muestra el número de árboles por kilómetro cuadrado \n",
    "# de países aleatorios con un número considerable de población. \n",
    "# Crea una lista llamada \"masarboles\" que contenga el nombre de los países con más de 20.000 árboles por kilómetro cuadrado."
   ]
  },
  {
   "cell_type": "code",
   "execution_count": null,
   "metadata": {},
   "outputs": [],
   "source": [
    "masarboles = []\n",
    "tree = {\"Taiwan\": 69593,\n",
    "        \"Japan\": 49894, \n",
    "        \"Russia\": 41396, \n",
    "        \"Canada\": 36388, \n",
    "        \"Bulgaria\": 24987}"
   ]
  },
  {
   "cell_type": "code",
   "execution_count": null,
   "metadata": {},
   "outputs": [],
   "source": [
    "# Podemos pensar en otra solución\n",
    "\n",
    "if tree['Taiwan'] >= 20000:\n",
    "    print('Adding Taiwan to list')\n",
    "    masarboles.append('Taiwan')\n",
    "if tree['Japan'] >= 20000:\n",
    "    print('Adding Japan to list')\n",
    "    masarboles.append('Japan')\n",
    "if tree['Russia'] >= 20000:\n",
    "    print('Adding Russia to list')\n",
    "    masarboles.append('Russia')\n",
    "if tree['Canada'] >= 20000:\n",
    "    print('Adding Canada to list')\n",
    "    masarboles.append('Canada')\n",
    "if tree['Bulgaria'] >= 20000:\n",
    "    print('Adding Bulgaria to list')\n",
    "    masarboles.append('Bulgaria')\n",
    "\n",
    "print(masarboles)"
   ]
  },
  {
   "cell_type": "code",
   "execution_count": null,
   "metadata": {},
   "outputs": [],
   "source": [
    "# Aqui tuve otra idea, pero no se por qué me da error en el primer elif (¿¿¿¿)\n",
    "while len(masarboles) == 5: \n",
    "    if tree['Taiwan'] >= 20000:\n",
    "        print('Adding Taiwan to list')\n",
    "    masarboles.append('Taiwan')\n",
    "    elif tree['Japan'] >= 20000:\n",
    "        print('Adding Japan to list')\n",
    "    masarboles.append('Japan')\n",
    "    elif tree['Russia'] >= 20000:\n",
    "        print('Adding Russia to list')\n",
    "    masarboles.append('Russia')\n",
    "    elif tree['Canada'] >= 20000:\n",
    "        print('Adding Canada to list')\n",
    "    masarboles.append('Canada')\n",
    "    elif tree['Bulgaria'] >= 20000:\n",
    "        print('Adding Bulgaria to list')\n",
    "    masarboles.append('Bulgaria')\n",
    "\n",
    "print(masarboles)"
   ]
  },
  {
   "cell_type": "code",
   "execution_count": 47,
   "metadata": {},
   "outputs": [
    {
     "name": "stdout",
     "output_type": "stream",
     "text": [
      "Estás en el grupo B.\n"
     ]
    }
   ],
   "source": [
    "\"\"\"\n",
    "Ejercicio 5:\n",
    "Los alumnos de un curso se han dividido en dos grupos A y B de acuerdo al sexo y el nombre. \n",
    "El grupo A esta formado por las mujeres con un nombre anterior a la M y los hombres con un nombre posterior a la N \n",
    "y el grupo B por el resto. Escribid un programa que pregunte al usuario su nombre y sexo, \n",
    "y muestre por pantalla el grupo que le corresponde.\n",
    "\"\"\"\n",
    "\n",
    "nombre = \"M\"\n",
    "genero = \"Masculino\"\n",
    "\n",
    "\n",
    "input_nombre = input(\"Dime la inicial de tu nombre: \")\n",
    "input_genero = input(\"Elige el género con el que te identifiques: Masculino o Femenino\")\n",
    "\n",
    "# Metemos todas las condiciones para estar en el grupo A en un if, aprovechando que podemos poner or y así simplificamos.\n",
    "\n",
    "if (input_nombre >= nombre and input_genero == genero) or (input_nombre <= nombre and input_genero != genero):\n",
    "\n",
    "    print(\"Estás en el grupo A.\")\n",
    "\n",
    "else :\n",
    "    print(\"Estás en el grupo B.\")\n",
    "\n",
    "\n",
    "\n"
   ]
  },
  {
   "cell_type": "code",
   "execution_count": null,
   "metadata": {},
   "outputs": [],
   "source": [
    "#Ejercicio 6"
   ]
  },
  {
   "cell_type": "code",
   "execution_count": null,
   "metadata": {},
   "outputs": [],
   "source": [
    "z = 0\n",
    "lista6 = []\n",
    "while  z < 3:\n",
    "    if z == 0:\n",
    "        print(z)\n",
    "        lista6.append(z)\n",
    "        z+=1\n",
    "    elif z == 1:\n",
    "        print(z)\n",
    "        lista6.append(z)\n",
    "        z+=1  \n",
    "    else:\n",
    "        print(z)\n",
    "        z+=1 \n",
    "\n",
    "lista6"
   ]
  },
  {
   "cell_type": "code",
   "execution_count": 51,
   "metadata": {},
   "outputs": [
    {
     "name": "stdout",
     "output_type": "stream",
     "text": [
      "[0, 1, 2, 3]\n"
     ]
    }
   ],
   "source": [
    "\"\"\"\n",
    "Ejercicio 7\n",
    "El objetivo de este ejercicio es añadir elementos a una lista utilizando el bucle while:\n",
    "- Cread una lista vacía\n",
    "- Cread una variable cuyo valor sea 0\n",
    "- Mientras que la longitud de la lista creada en el primer paso sea menor que 4:\n",
    "    Apendead el valor de la variable creada en el paso 2\n",
    "    Sumad 1 a la variable creada en el paso 2\n",
    "- Por último, printead los valores que hemos añadido en la lista vacía (ya no lo estaría)\n",
    "\"\"\"\n",
    "\n",
    "contenedor = []\n",
    "basura = 0\n",
    "\n",
    "while len(contenedor) < 4:\n",
    "    contenedor.append(basura)\n",
    "    basura += 1\n",
    "    # si queremos que no nos enseñe el proceso de append, le metemos un if, si no, lo quitamos.\n",
    "    if len(contenedor) == 4 :\n",
    "        print(contenedor)"
   ]
  },
  {
   "cell_type": "code",
   "execution_count": null,
   "metadata": {},
   "outputs": [
    {
     "name": "stdout",
     "output_type": "stream",
     "text": [
      "115\n"
     ]
    }
   ],
   "source": [
    "\"\"\"\n",
    "Ejercicio 8\n",
    "El objetivo de este ejercicio es encontrar la suma de números en una lista usando el bucle while:\n",
    "    - Cread una variable cuyo valor sea 0, llamadla \"i\"\n",
    "    - Cread una lista que contenga los siguientes números: 23,45,12,10,25\n",
    "    - Cread una variable cuyo valor sea 0, llamadla \"suma\"\n",
    "    - Mientras que el valor de la variable \"i\" sea menor que la longitud de la lista:\n",
    "        · Sumad elemento a elemento los valores de la lista. Es decir, el primero con el segundo; el resultado de la suma anterior más el tercer número, etc\n",
    "        · Sumad 1 a la variable \"i\" por cada iteración por el bucle while\n",
    "    - El resultado esperado es 115.\n",
    "\"\"\"\n",
    "\n",
    "i = 0\n",
    "numeros = [23, 45, 12, 10, 25]\n",
    "suma = 0\n",
    "\n",
    "while i < len(numeros) :\n",
    "    suma = numeros[i] + suma\n",
    "    \n",
    "    i += 1\n",
    "print(suma)\n"
   ]
  },
  {
   "cell_type": "code",
   "execution_count": null,
   "metadata": {},
   "outputs": [],
   "source": [
    "# Ejercicio 10"
   ]
  },
  {
   "cell_type": "code",
   "execution_count": null,
   "metadata": {},
   "outputs": [],
   "source": [
    "input_cliente = input('¿Qué tipo de pizza quieres? (elige: vegetariana / no vegetariana)?')\n",
    "\n",
    "if input_cliente == 'vegetariana':\n",
    "    print('''Menú vegetariano:\n",
    "    pizza con mozzarela, tomate y pimiento = escribe '1'\n",
    "                            o\n",
    "    pizza con mozzarela, tomate y tofu = escribe '2'.\n",
    "            ''')\n",
    "    input_cliente_veg = input ('''Escribe 1 si es con pimiento;\n",
    "                        Escribe 2 si es con tofu''')\n",
    "\n",
    "    if input_cliente_veg == '1':\n",
    "            print ('Marchando tu pizza vegetariana con mozzarela, tomate y pimiento')\n",
    "    elif input_cliente_veg == '2':\n",
    "            print ('Marchando tu pizza vegetariana con mozzarela, tomate y tofu')\n",
    "\n",
    "elif input_cliente =='no vegetariana':\n",
    "    print('''Menú no vegetariano:\n",
    "            pizza con mozzarela, tomate y peperoni = escribe '1'\n",
    "                                 o\n",
    "            pizza con mozzarela, tomate y jamón = escribe '2'\n",
    "                                 o\n",
    "            pizza con mozzarela, tomate y salmón = escribe '3'\n",
    "            ''')\n",
    "    \n",
    "    input_cliente_noveg = input ('''Escribe 1 si es con peperoni;\n",
    "                                    Escribe 2 si es con jamón\n",
    "                                    Escribe 3 si es con salmón.''')\n",
    "    if input_cliente_noveg == '1':\n",
    "        print ('Marchando tu pizza con mozzarela, tomate y peperoni')\n",
    "    elif input_cliente_noveg == '2':\n",
    "        print ('Marchando tu pizza con mozzarela, tomate y jamón')\n",
    "    elif input_cliente_noveg == '3':\n",
    "        print ('Marchando tu pizza con mozzarela, tomate y salmón')\n",
    "\n",
    "else:\n",
    "    print('''No nos queda de esa pizza / ingrediente\n",
    "    por favor, envía un email a: automaticpizza@pizza.com''')"
   ]
  },
  {
   "cell_type": "code",
   "execution_count": 3,
   "metadata": {},
   "outputs": [],
   "source": [
    "\"\"\"\n",
    "Ejercicio 10\n",
    "La pizzería Bella Napoli ofrece pizzas vegetarianas y no vegetarianas a sus clientes. Los ingredientes para cada tipo de pizza aparecen a continuación.\n",
    "    - Ingredientes vegetarianos: Pimiento y tofu.\n",
    "    - Ingredientes no vegetarianos: Peperoni, Jamón y Salmón.\n",
    "    - Escribid un programa que pregunte al usuario si quiere una pizza vegetariana o no, \n",
    "      y en función de su respuesta le muestre un menú con los ingredientes disponibles para que elija. \n",
    "      Solo se puede eligir un ingrediente además de la mozzarella y el tomate que están en todas la pizzas. \n",
    "      Al final se debe mostrar por pantalla si la pizza elegida es vegetariana o no y todos los ingredientes que lleva.\n",
    "\"\"\"\n",
    "\n",
    "ingredientes_vegetarianos = [\"Pimiento\", \"tofu\"]\n",
    "ingredientes_no_vegetarianos = [\"Peperoni\", \"Jamón\", \"Salmón\"]\n",
    "\n",
    "\n",
    "pizza_ingredientes = [\"Mozzarela\", \"Tomate\"]\n",
    "\n",
    "\n"
   ]
  },
  {
   "cell_type": "code",
   "execution_count": 38,
   "metadata": {},
   "outputs": [
    {
     "name": "stdout",
     "output_type": "stream",
     "text": [
      "Genial! Todas nuestras pizzas son de masa fina y fermentada 48h, llevan salsa de tomate en la base y suave mozzarela\n",
      "Muy bien, puede elegir cualquiera de los frescos y fantásticos ingredientes de la siguiente lista, puede añadirlos escribiendo su nombre, de uno en uno\n",
      "['Pimiento', 'tofu', 'Peperoni', 'Jamón', 'Salmón']\n"
     ]
    }
   ],
   "source": [
    "\n",
    "quieres_pizza = input(\"Buenas tardes, ¿le apetece tomar una pizza? S/N \")\n",
    "if quieres_pizza == \"S\" :\n",
    "    print(\"Genial! Todas nuestras pizzas son de masa fina y fermentada 48h, llevan salsa de tomate en la base y suave mozzarela\") \n",
    "    añade_ingredientes = input(\"Genial! Todas nuestras pizzas son de masa fina y fermentada 48h, llevan salsa de tomate en la base y suave mozzarela.\\n¿Le gustaría añadir algún ingrediente más? S/N\")\n",
    "    if añade_ingredientes == \"S\":\n",
    "        print(\"Muy bien, puede elegir cualquiera de los frescos y fantásticos ingredientes de la siguiente lista, puede añadirlos escribiendo su nombre, de uno en uno\")\n",
    "        print(ingredientes_vegetarianos + ingredientes_no_vegetarianos)\n",
    "else :\n",
    "    print(\"ok, espero verle otro día. ¡Que pase buena tarde!\")\n"
   ]
  }
 ],
 "metadata": {
  "kernelspec": {
   "display_name": "Python 3.8.10 64-bit",
   "language": "python",
   "name": "python3"
  },
  "language_info": {
   "codemirror_mode": {
    "name": "ipython",
    "version": 3
   },
   "file_extension": ".py",
   "mimetype": "text/x-python",
   "name": "python",
   "nbconvert_exporter": "python",
   "pygments_lexer": "ipython3",
   "version": "3.8.10"
  },
  "orig_nbformat": 4,
  "vscode": {
   "interpreter": {
    "hash": "916dbcbb3f70747c44a77c7bcd40155683ae19c65e1c03b4aa3499c5328201f1"
   }
  }
 },
 "nbformat": 4,
 "nbformat_minor": 2
}
