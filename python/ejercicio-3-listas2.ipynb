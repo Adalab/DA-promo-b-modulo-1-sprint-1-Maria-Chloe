{
 "cells": [
  {
   "cell_type": "code",
   "execution_count": 1,
   "metadata": {},
   "outputs": [],
   "source": [
    "# PAIR PROGRAMMING LISTAS 2\n",
    "#Variables\n",
    "import random \n",
    "\n",
    "index = -1\n",
    "lim_inferior = 3\n",
    "lim_superior = 15\n",
    "longitud_lista = 7\n",
    "\n",
    "bienvenida = \"Bienvenidas al cerebro de esta máquina, voy a enseñaros todo lo que sé hacer...\"\n",
    "#dame_un_num = input(\"Escoge un número entre el 3 y el 12 \") La comento para que no corra y pregunte el numero antes de iniciar el juego\n",
    "num_list = random.sample(range(lim_inferior, lim_superior), longitud_lista)\n",
    "\n",
    "#He cambiado la variable de propiedades_num_list porque al referenciar a num_list el limite inferior y superior se vuelve aleatorio cada vez que se corre el codigo (pruebalo si quieres) \n",
    "# propiedades_num_list = \"La lista aleatoria tiene \" + str(longitud_lista) + \" numeros\" + \" del \" + str(min(num_list)) +\" al \" + str(max(num_list)) + \".\"\n",
    "propiedades_num_list = \"La lista aleatoria tiene \" + str(longitud_lista) + \" numeros\" + \" del \" + str(lim_inferior) +\" al \" + str(lim_superior) + \".\""
   ]
  },
  {
   "cell_type": "code",
   "execution_count": 4,
   "metadata": {},
   "outputs": [
    {
     "name": "stdout",
     "output_type": "stream",
     "text": [
      "Bienvenidas al cerebro de esta máquina, voy a enseñaros todo lo que sé hacer...\n",
      "La lista aleatoria tiene 7 numeros del 3 al 15.\n",
      "El número que has elegido es:  12\n",
      "¿Estaba en la lista aleatoria?\n",
      "True\n",
      "Estaba en el sitio 4 , índice 3 .\n",
      "¡Fin del juego!\n"
     ]
    }
   ],
   "source": [
    "# Inicio del juego\n",
    "\n",
    "print (bienvenida)\n",
    "\n",
    "# Propiedades de la lista aleatoria\n",
    "\n",
    "print(propiedades_num_list)\n",
    "\n",
    "# Usuario escoge un número\n",
    "\n",
    "intento = int(input(\"Escoge un número entre el 3 y el 15 \" ))\n",
    "print('El número que has elegido es: ', intento) \n",
    "\n",
    "# Han adivinado un elemento?\n",
    "\n",
    "print('¿Estaba en la lista aleatoria?')\n",
    "print (intento in num_list)\n",
    "\n",
    "\n",
    "# Si adivinaron uno, dónde estaba? \n",
    "indice = num_list.index(intento)\n",
    "indice_humano = indice + 1\n",
    "if num_list.count(intento): index = indice\n",
    "if index >= 0: print(\"Estaba en el sitio\", indice_humano, \", índice\", str(index),\".\")\n",
    "\n",
    "# Fin del juego\n",
    "fin_del_juego = '¡Fin del juego!'\n",
    "print (fin_del_juego)"
   ]
  }
 ],
 "metadata": {
  "kernelspec": {
   "display_name": "Python 3.9.7 ('base')",
   "language": "python",
   "name": "python3"
  },
  "language_info": {
   "codemirror_mode": {
    "name": "ipython",
    "version": 3
   },
   "file_extension": ".py",
   "mimetype": "text/x-python",
   "name": "python",
   "nbconvert_exporter": "python",
   "pygments_lexer": "ipython3",
   "version": "3.9.7"
  },
  "orig_nbformat": 4,
  "vscode": {
   "interpreter": {
    "hash": "6be5d780ee9b0e6fe20ff9090f4981b24f52f07297829e94136e87c5137905e3"
   }
  }
 },
 "nbformat": 4,
 "nbformat_minor": 2
}
