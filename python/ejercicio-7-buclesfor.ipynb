{
 "cells": [
  {
   "cell_type": "code",
   "execution_count": null,
   "metadata": {},
   "outputs": [],
   "source": [
    "# 1.Escribid un programa que pregunte al usuario una cantidad a invertir, \n",
    "# el interés anual y el número de años, y muestre por pantalla el capital obtenido en la \n",
    "# inversión cada año que dura la inversión."
   ]
  },
  {
   "cell_type": "code",
   "execution_count": 1,
   "metadata": {},
   "outputs": [],
   "source": [
    "cantidad = int(input(\"Cantidad a invertir\"))\n",
    "int_anual = int(input(\"Interes anual\"))\n",
    "num_anos = int(input(\"Numero de años\"))"
   ]
  },
  {
   "cell_type": "code",
   "execution_count": 2,
   "metadata": {},
   "outputs": [
    {
     "name": "stdout",
     "output_type": "stream",
     "text": [
      "el año 1 se obtuvo 5500.0\n",
      "el año 2 se obtuvo 6050.0\n",
      "el año 3 se obtuvo 6655.0\n",
      "el año 4 se obtuvo 7320.5\n",
      "el año 5 se obtuvo 8052.55\n"
     ]
    }
   ],
   "source": [
    "for i in range(num_anos):\n",
    "    cantidad += ((cantidad*int_anual)/100) \n",
    "    print(f\"el año {i+1} se obtuvo {cantidad}\")"
   ]
  },
  {
   "cell_type": "code",
   "execution_count": null,
   "metadata": {},
   "outputs": [],
   "source": [
    "# 2.Escribid un programa en el que se pregunte al usuario por una frase y una letra,\n",
    "#  y muestre por pantalla el número de veces que aparece la letra en la frase."
   ]
  },
  {
   "cell_type": "code",
   "execution_count": 9,
   "metadata": {},
   "outputs": [
    {
     "name": "stdout",
     "output_type": "stream",
     "text": [
      "6\n"
     ]
    }
   ],
   "source": [
    "inputf = input('Introduce una frase')\n",
    "inputl = input('Dame una letra')\n",
    "listal=[]\n",
    "\n",
    "for l in inputf:\n",
    "    \n",
    "    if l == inputl:\n",
    "        listal.append(l)\n",
    "\n",
    "print(len(listal))\n",
    "    "
   ]
  },
  {
   "cell_type": "code",
   "execution_count": null,
   "metadata": {},
   "outputs": [],
   "source": [
    "#3.Escribid un programa que nos devuelva la tabla de multiplicar de un número especificado en una función input"
   ]
  },
  {
   "cell_type": "code",
   "execution_count": 12,
   "metadata": {},
   "outputs": [
    {
     "name": "stdout",
     "output_type": "stream",
     "text": [
      "0\n",
      "5\n",
      "10\n",
      "15\n",
      "20\n",
      "25\n",
      "30\n",
      "35\n",
      "40\n",
      "45\n",
      "50\n"
     ]
    }
   ],
   "source": [
    "num = int(input('Dame un numero y te doy su tabla'))\n",
    "\n",
    "for i in range(11):\n",
    "    print(i * num)"
   ]
  },
  {
   "cell_type": "code",
   "execution_count": null,
   "metadata": {},
   "outputs": [],
   "source": [
    "# 4. Dada una lista de numeros:\n",
    "# Escribid un programa que muestre sólo los números de una lista que cumplan las siguientes condiciones:\n",
    "#    El número debe ser divisible entre cinco\n",
    "#    Si el número es mayor que 150, se salta y se pasa al siguiente número\n",
    "#    Si el número es mayor que 500, entonces detenga el bucle"
   ]
  },
  {
   "cell_type": "code",
   "execution_count": 28,
   "metadata": {},
   "outputs": [
    {
     "name": "stdout",
     "output_type": "stream",
     "text": [
      "[75, 150, 145]\n"
     ]
    }
   ],
   "source": [
    "numbers = [12, 75, 150, 180, 145, 525, 50]\n",
    "listan=[]\n",
    "for i in numbers:\n",
    "    if i > 500:\n",
    "        break\n",
    "    elif i > 150:\n",
    "        pass\n",
    "    elif i % 5 == 0:\n",
    "        listan.append(i)\n",
    "\n",
    "print(listan)"
   ]
  },
  {
   "cell_type": "code",
   "execution_count": 32,
   "metadata": {},
   "outputs": [
    {
     "name": "stdout",
     "output_type": "stream",
     "text": [
      "[75, 150, 145, 50]\n"
     ]
    }
   ],
   "source": [
    "#Para comentar juntas, nos faltaba un else para que hiciera la criba\n",
    "\n",
    "numbers = [12, 75, 150, 180, 145, 525, 50]\n",
    "listan=[]\n",
    "for i in numbers:\n",
    "    if i % 5 == 0:\n",
    "        if i > 150:\n",
    "            pass\n",
    "        elif i > 500:\n",
    "            break\n",
    "        else:\n",
    "            listan.append(i)\n",
    "\n",
    "print(listan)\n"
   ]
  },
  {
   "cell_type": "code",
   "execution_count": null,
   "metadata": {},
   "outputs": [],
   "source": [
    "# 5. Dada una lista:\n",
    "# Imprimir la lista en orden inverso"
   ]
  },
  {
   "cell_type": "code",
   "execution_count": 15,
   "metadata": {},
   "outputs": [
    {
     "data": {
      "text/plain": [
       "[50, 40, 30, 20, 10]"
      ]
     },
     "execution_count": 15,
     "metadata": {},
     "output_type": "execute_result"
    }
   ],
   "source": [
    "list1 = [10, 20, 30, 40, 50]\n",
    "\n",
    "listin = list1[-1::-1]\n",
    "listin"
   ]
  },
  {
   "cell_type": "code",
   "execution_count": 2,
   "metadata": {},
   "outputs": [
    {
     "data": {
      "text/plain": [
       "[50, 40, 30]"
      ]
     },
     "execution_count": 2,
     "metadata": {},
     "output_type": "execute_result"
    }
   ],
   "source": [
    "list1 = [10, 20, 30, 40, 50]\n",
    "\n",
    "listinv = [list1.pop() for i in list1]\n",
    "listinv"
   ]
  },
  {
   "cell_type": "code",
   "execution_count": 17,
   "metadata": {},
   "outputs": [
    {
     "data": {
      "text/plain": [
       "[50, 40, 30]"
      ]
     },
     "execution_count": 17,
     "metadata": {},
     "output_type": "execute_result"
    }
   ],
   "source": [
    "list1 = [10, 20, 30, 40, 50]\n",
    "\n",
    "    \n",
    "listrev = [list1[-1] and list1.pop() for i in list1]\n",
    "listrev"
   ]
  },
  {
   "cell_type": "code",
   "execution_count": 18,
   "metadata": {},
   "outputs": [
    {
     "data": {
      "text/plain": [
       "[50, 40, 30, 20, 10]"
      ]
     },
     "execution_count": 18,
     "metadata": {},
     "output_type": "execute_result"
    }
   ],
   "source": [
    "list1 = [10, 20, 30, 40, 50]\n",
    "list1.sort(reverse=True)\n",
    "\n",
    "listinversa = [i for i in list1] \n",
    "listinversa\n",
    "\n",
    "#for i in list1:\n",
    " #   print(i)"
   ]
  },
  {
   "cell_type": "code",
   "execution_count": 14,
   "metadata": {},
   "outputs": [
    {
     "data": {
      "text/plain": [
       "[[50, 40, 30, 20, 10],\n",
       " [50, 40, 30, 20, 10],\n",
       " [50, 40, 30, 20, 10],\n",
       " [50, 40, 30, 20, 10],\n",
       " [50, 40, 30, 20, 10]]"
      ]
     },
     "execution_count": 14,
     "metadata": {},
     "output_type": "execute_result"
    }
   ],
   "source": [
    "list1 = [10, 20, 30, 40, 50]\n",
    "\n",
    "listreverse = [sorted(list1,reverse=True) for i in list1]\n",
    "listreverse"
   ]
  },
  {
   "cell_type": "code",
   "execution_count": null,
   "metadata": {},
   "outputs": [],
   "source": [
    "# 6.Dado el siguiente código:\n",
    "# Usando un try ... except, cread un programa para evitar que nos de un error el código anterior. \n",
    "# En su lugar, si se encuentra un error, deberéis poner el código necesario para que no nos devuelva error."
   ]
  },
  {
   "cell_type": "code",
   "execution_count": 33,
   "metadata": {},
   "outputs": [
    {
     "name": "stdout",
     "output_type": "stream",
     "text": [
      "1\n",
      "error corregido\n",
      "4\n",
      "error corregido\n",
      "9\n",
      "error corregido\n"
     ]
    }
   ],
   "source": [
    "for i in ['1','2','3']:\n",
    "    try:\n",
    "        print (i**2)\n",
    "    except:\n",
    "        print (int(i)**2)\n",
    "        print ('error corregido')"
   ]
  }
 ],
 "metadata": {
  "kernelspec": {
   "display_name": "Python 3.9.7 ('base')",
   "language": "python",
   "name": "python3"
  },
  "language_info": {
   "codemirror_mode": {
    "name": "ipython",
    "version": 3
   },
   "file_extension": ".py",
   "mimetype": "text/x-python",
   "name": "python",
   "nbconvert_exporter": "python",
   "pygments_lexer": "ipython3",
   "version": "3.9.7"
  },
  "orig_nbformat": 4,
  "vscode": {
   "interpreter": {
    "hash": "8e1f904fe714ccd05b7907fe541d28c2ec20b612a1af6f34d013e1f0fd7aabf1"
   }
  }
 },
 "nbformat": 4,
 "nbformat_minor": 2
}
